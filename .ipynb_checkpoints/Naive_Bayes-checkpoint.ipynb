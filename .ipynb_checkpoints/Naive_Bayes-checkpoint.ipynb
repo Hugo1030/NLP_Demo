{
 "cells": [
  {
   "cell_type": "markdown",
   "metadata": {
    "collapsed": true
   },
   "source": [
    "* 自己用 Python 实现 Naive Bayes 方法，并在给定的数据集上验证结果。\n",
    "\n",
    "### 相关公式\n",
    "* $P(y|S)=\\frac{P(y,S)}{P(S)}=\\frac{P(S|y)*P(y)}{P(S)}$\n",
    "* $P(S|y=emotion)=P(w_1,w_2,w_3,...,w_n|y=emotion) \\approx P(w_1|y=emotion)...P(w_n|y=emotion)$\n",
    "* $P(w_1|y=emotion) \\approx \\frac{Count(w_1,y=emotion)+1}{Count(y=emotion)+V+1}$"
   ]
  },
  {
   "cell_type": "markdown",
   "metadata": {},
   "source": [
    "### 显示系统版本"
   ]
  },
  {
   "cell_type": "code",
   "execution_count": 94,
   "metadata": {},
   "outputs": [
    {
     "name": "stdout",
     "output_type": "stream",
     "text": [
      "Mac系统版本是: Darwin10.12.6\n",
      "Python 版本是: 3.6.2\n"
     ]
    }
   ],
   "source": [
    "import sys\n",
    "import platform\n",
    "\n",
    "print(\"Mac系统版本是: {}{}\".format(platform.system(),platform.mac_ver()[0]))\n",
    "print(\"Python 版本是: {}\".format(sys.version.split()[0]))"
   ]
  },
  {
   "cell_type": "markdown",
   "metadata": {},
   "source": [
    "### 查看一下数据"
   ]
  },
  {
   "cell_type": "code",
   "execution_count": 129,
   "metadata": {
    "scrolled": true
   },
   "outputs": [
    {
     "name": "stdout",
     "output_type": "stream",
     "text": [
      "     1\t装了xp系统后，没有出现网友说的驱动不好装的情况\r\n",
      "     2\t总的来说,比较干净,而且地理位置很好,市区繁华地段.进出方便.\r\n",
      "     3\t2、散热很好，这个不用解释了\r\n",
      "     4\t温度控制的非常好，噪音也不大，\r\n",
      "     5\t早上6点多有\"按摩\"电话过来，^_^；不想被打扰的话拔掉电话插头吧\r\n"
     ]
    }
   ],
   "source": [
    "!head -n 5 ../code/pos_train.txt| nl"
   ]
  },
  {
   "cell_type": "code",
   "execution_count": 99,
   "metadata": {
    "scrolled": true
   },
   "outputs": [
    {
     "name": "stdout",
     "output_type": "stream",
     "text": [
      "     1\t光驱不大好，给人想散架的的感觉。哈哈，总体上还可以。装系统有点绕手，害的我装了一个小时。\r\n",
      "     2\t2，散热是有点问题，CPU cache 是小了点。不能运行很大的软件。\r\n",
      "     3\t上月入住，将近500元一天的房费，卫生间很小，像经济性酒店。走廊房间一股霉味。浴缸下水管漏水，淌的一地都是。窗户外面不到30米就是居民小区，喇叭不断。更可笑的是，结账时被告知，携程预定的房费是不含服务费的，又多收了10%的服务费。在携程定了这么多次，五星也订很多了，还是头一次遇到。总之，酒店差，房费不合理！\r\n",
      "     4\tCTRIP上怎么让它这么忽悠顾客的 ？！！！！！！！\r\n",
      "     5\t于丹教授讲《论语》不能很正确地反映儒家原来的思想，她除了讲《论语》不好外，别的还可以。\r\n"
     ]
    }
   ],
   "source": [
    "!head -n 5 ../code/neg_train.txt | nl"
   ]
  },
  {
   "cell_type": "code",
   "execution_count": 105,
   "metadata": {},
   "outputs": [
    {
     "name": "stdout",
     "output_type": "stream",
     "text": [
      "vec_pos=27733.000000\ts_pos=508469.000000\n"
     ]
    }
   ],
   "source": [
    "import jieba.posseg as pseg\n",
    "from collections import Counter\n",
    "from math import log\n",
    "\n",
    "lm_pos = Counter() # 正向词频表\n",
    "vec_pos = 0.0 # 正向词表大小\n",
    "\n",
    "with open(\"../code/pos_train.txt\") as f: # 统计词频\n",
    "    for line in f.readlines():\n",
    "        line_no += 1\n",
    "        for word,flag in pseg.cut(line):\n",
    "            if flag == \"x\":\n",
    "                continue\n",
    "            #print(\"%s\\t%s\"%(word,flag))\n",
    "            lm_pos[word] += 1\n",
    "\n",
    "for key in lm_pos.keys(): # 计算正向词表\n",
    "    vec_pos += 1\n",
    "\n",
    "s_pos = float(sum(lm_pos.values())) # 正向总词频\n",
    "print(\"vec_pos=%f\\ts_pos=%f\"%(vec_pos,s_pos))"
   ]
  },
  {
   "cell_type": "code",
   "execution_count": 106,
   "metadata": {},
   "outputs": [
    {
     "name": "stdout",
     "output_type": "stream",
     "text": [
      "vec_neg=21685.000000\ts_neg=449708.000000\n"
     ]
    }
   ],
   "source": [
    "lm_neg = Counter()\n",
    "vec_neg = 0.0 # 负向词表大小\n",
    "\n",
    "with open(\"../code/neg_train.txt\") as f:\n",
    "    for line in f.readlines():\n",
    "        line_no += 1\n",
    "        for word,flag in pseg.cut(line):\n",
    "            if flag == \"x\":\n",
    "                continue\n",
    "            #print(\"%s\\t%s\"%(word,flag))\n",
    "            lm_neg[word] += 1\n",
    "\n",
    "for key in lm_neg.keys(): # 计算负向词表\n",
    "    vec_neg += 1\n",
    "\n",
    "s_neg = float(sum(lm_neg.values())) # 负向词频                    \n",
    "print(\"vec_neg=%f\\ts_neg=%f\"%(vec_neg,s_neg))"
   ]
  },
  {
   "cell_type": "code",
   "execution_count": 134,
   "metadata": {},
   "outputs": [
    {
     "name": "stdout",
     "output_type": "stream",
     "text": [
      "pos_prob=0.511927\tneg_prob=0.488073\n"
     ]
    }
   ],
   "source": [
    "s_ = s_pos + s_neg # 总词频\n",
    "vec_s = vec_pos + vec_neg # 总词表大小\n",
    "pos_prob = s_pos / s_ # 积极情绪先验概率\n",
    "neg_prob = 1 - pos_prob # 消极情绪先验概率\n",
    "\n",
    "#print(pos_prob, neg_prob)\n",
    "print(\"pos_prob=%f\\tneg_prob=%f\"%(pos_prob,neg_prob))"
   ]
  },
  {
   "cell_type": "code",
   "execution_count": 108,
   "metadata": {
    "collapsed": true
   },
   "outputs": [],
   "source": [
    "pos_test_list= [] # 读取正向测试集\n",
    "with open(\"../code/pos_test.txt\") as f:\n",
    "    for line in f.readlines():\n",
    "        pos_test_list.append(line)"
   ]
  },
  {
   "cell_type": "code",
   "execution_count": 109,
   "metadata": {},
   "outputs": [
    {
     "name": "stdout",
     "output_type": "stream",
     "text": [
      "TP=4365\tFP=600\n"
     ]
    }
   ],
   "source": [
    "TP = 0\n",
    "FP = 0\n",
    "\n",
    "for test_str in pos_test_list:\n",
    "    s_pos = 0.0 # p(s/y=pose)初始化\n",
    "    s_neg = 0.0 # p(s/y=neg)初始化\n",
    "    for word,flag in pseg.cut(test_str):\n",
    "        if flag == \"x\": # 去掉标点符号\n",
    "            continue\n",
    "        p_pos_word = (lm_pos[word] + 1) / (s_pos + vec_s + 1) # 平滑概率，得到正向词概率\n",
    "        p_neg_word = (lm_neg[word] + 1) / (s_neg + vec_s + 1) # 平滑概率，得到负向词概率\n",
    "        #print(word,p_pos_word,p_neg_word)\n",
    "        s_pos += log(p_pos_word)\n",
    "        s_neg += log(p_neg_word)\n",
    "    s_pos = s_pos + log(pos_prob) # 加上积极先验概率，得到正向句子概率\n",
    "    s_neg = s_neg + log(neg_prob) # 加上消极先验概率，得到负向句子概率\n",
    "    #print(s_pos,s_neg)\n",
    "    if s_pos > s_neg:\n",
    "        TP += 1\n",
    "    else:\n",
    "        FP += 1        \n",
    "        \n",
    "print(\"TP=%d\\tFP=%d\"%(TP,FP))"
   ]
  },
  {
   "cell_type": "code",
   "execution_count": 110,
   "metadata": {
    "collapsed": true
   },
   "outputs": [],
   "source": [
    "neg_test_list= [] # 消极测试集\n",
    "with open(\"../code/neg_test.txt\") as f:\n",
    "    for line in f.readlines():\n",
    "        neg_test_list.append(line)"
   ]
  },
  {
   "cell_type": "code",
   "execution_count": 111,
   "metadata": {},
   "outputs": [
    {
     "name": "stdout",
     "output_type": "stream",
     "text": [
      "TN=4142\tFN=1431\n"
     ]
    }
   ],
   "source": [
    "TN = 0\n",
    "FN = 0\n",
    "\n",
    "for test_str in neg_test_list:\n",
    "    s_pos = 0 # p(s/y=pose)\n",
    "    s_neg = 0 # p(s/y=neg)\n",
    "    for word,flag in pseg.cut(test_str):\n",
    "        if flag == \"x\": # 去掉标点符号\n",
    "            continue\n",
    "        p_pos_word = (lm_pos[word] + 1) / (s_pos + vec_s + 1) # 平滑，得到正向词概率\n",
    "        p_neg_word = (lm_neg[word] + 1) / (s_neg + vec_s + 1) # 平滑，得到负向词概率\n",
    "        #print(word,p_pos_word,p_neg_word)\n",
    "        s_pos += log(p_pos_word)\n",
    "        s_neg += log(p_neg_word)\n",
    "    s_pos = s_pos + log(pos_prob) # 加上积极先验概率，得到正向句子概率\n",
    "    s_neg = s_neg + log(neg_prob) # 加上消极先验概率，得到负向句子概率\n",
    "    #print(s_pos,s_neg)\n",
    "    if s_pos < s_neg: # 判断句子正负向\n",
    "        TN += 1\n",
    "    else:\n",
    "        FN += 1        \n",
    "        \n",
    "print(\"TN=%d\\tFN=%d\"%(TN,FN))"
   ]
  },
  {
   "cell_type": "code",
   "execution_count": 112,
   "metadata": {},
   "outputs": [
    {
     "data": {
      "text/html": [
       "<div>\n",
       "<style>\n",
       "    .dataframe thead tr:only-child th {\n",
       "        text-align: right;\n",
       "    }\n",
       "\n",
       "    .dataframe thead th {\n",
       "        text-align: left;\n",
       "    }\n",
       "\n",
       "    .dataframe tbody tr th {\n",
       "        vertical-align: top;\n",
       "    }\n",
       "</style>\n",
       "<table border=\"1\" class=\"dataframe\">\n",
       "  <thead>\n",
       "    <tr style=\"text-align: right;\">\n",
       "      <th></th>\n",
       "      <th>predicted_no</th>\n",
       "      <th>predicted_yes</th>\n",
       "    </tr>\n",
       "  </thead>\n",
       "  <tbody>\n",
       "    <tr>\n",
       "      <th>actual_no</th>\n",
       "      <td>4142</td>\n",
       "      <td>600</td>\n",
       "    </tr>\n",
       "    <tr>\n",
       "      <th>actual_yes</th>\n",
       "      <td>1431</td>\n",
       "      <td>4365</td>\n",
       "    </tr>\n",
       "  </tbody>\n",
       "</table>\n",
       "</div>"
      ],
      "text/plain": [
       "            predicted_no  predicted_yes\n",
       "actual_no           4142            600\n",
       "actual_yes          1431           4365"
      ]
     },
     "execution_count": 112,
     "metadata": {},
     "output_type": "execute_result"
    }
   ],
   "source": [
    "import pandas as pd\n",
    "confusion_matrix = pd.DataFrame(\n",
    "    {'predicted_no': [TN, FN],'predicted_yes':[FP, TP]},\n",
    "    index=['actual_no','actual_yes'])\n",
    "confusion_matrix"
   ]
  },
  {
   "cell_type": "code",
   "execution_count": 113,
   "metadata": {
    "scrolled": true
   },
   "outputs": [
    {
     "name": "stdout",
     "output_type": "stream",
     "text": [
      "TP=4365, TN=4142, FP=600, FN=1431\n",
      "Accuracy = 0.807269\n",
      "ErrorRate = 0.192731\n",
      "True Positive Rate = 0.753106\n",
      "False Positive Rate = 0.126529\n",
      "Specificity = 0.873471\n",
      "Precision = 0.879154\n",
      "Prevalence = 0.550009\n"
     ]
    }
   ],
   "source": [
    "print (\"TP=%d, TN=%d, FP=%d, FN=%d\"%(TP, TN, FP, FN))\n",
    "print (\"Accuracy = %f\" % (float(TP+TN)/float(TP+TN+FP+FN)))\n",
    "print (\"ErrorRate = %f\" % (float(FP+FN)/float(TP+TN+FP+FN)))\n",
    "print (\"True Positive Rate = %f\" % (float(TP)/float(TP+FN)))\n",
    "print (\"False Positive Rate = %f\" % (float(FP)/float(FP+TN)))\n",
    "print (\"Specificity = %f\" % (float(TN)/float(TN+FP)))\n",
    "print (\"Precision = %f\" % (float(TP)/float(TP+FP)))\n",
    "print (\"Prevalence = %f\" % (float(TP+FN)/float(TP+TN+FP+FN)))"
   ]
  },
  {
   "cell_type": "code",
   "execution_count": null,
   "metadata": {
    "collapsed": true
   },
   "outputs": [],
   "source": []
  }
 ],
 "metadata": {
  "kernelspec": {
   "display_name": "Python 3",
   "language": "python",
   "name": "python3"
  },
  "language_info": {
   "codemirror_mode": {
    "name": "ipython",
    "version": 3
   },
   "file_extension": ".py",
   "mimetype": "text/x-python",
   "name": "python",
   "nbconvert_exporter": "python",
   "pygments_lexer": "ipython3",
   "version": "3.6.3"
  },
  "toc": {
   "nav_menu": {},
   "number_sections": true,
   "sideBar": true,
   "skip_h1_title": false,
   "toc_cell": false,
   "toc_position": {},
   "toc_section_display": "block",
   "toc_window_display": false
  }
 },
 "nbformat": 4,
 "nbformat_minor": 2
}
