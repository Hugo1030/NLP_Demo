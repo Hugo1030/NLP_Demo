{
 "cells": [
  {
   "cell_type": "markdown",
   "metadata": {},
   "source": [
    "# 构建 word embedding\n",
    "\n",
    "根据基本的框架程序：\n",
    "* 使用你的语料库进行训练，构建 NN language model\n",
    "* 完成 3 个名词各自最相近的 Top10 个词的检索"
   ]
  },
  {
   "cell_type": "markdown",
   "metadata": {},
   "source": [
    "参考资料：\n",
    "* [Word2Vec Tutorial - The Skip-Gram Model](http://mccormickml.com/2016/04/19/word2vec-tutorial-the-skip-gram-model/) Skip-Gram 模式讲解，negative sampling改进，清晰易懂\n",
    "* [「tensorflow_cookbook」Word2Vec: CBOW Model](https://github.com/nfmcclure/tensorflow_cookbook/blob/master/07_Natural_Language_Processing/05_Working_With_CBOW_Embeddings/05_Working_With_CBOW.ipynb) CBOW(Continueous Bag of Words)代码\n",
    "* [TensorFlow实战 第7章TensorFlow实现循环神经网络及Word2Vec](https://book.douban.com/subject/26974266/) Skip-Gram 模式讲解及代码"
   ]
  },
  {
   "cell_type": "code",
   "execution_count": 55,
   "metadata": {},
   "outputs": [
    {
     "name": "stdout",
     "output_type": "stream",
     "text": [
      "The watermark extension is already loaded. To reload it, use:\n",
      "  %reload_ext watermark\n",
      "Hugo 2017-11-28 \n",
      "\n",
      "CPython 3.6.2\n",
      "IPython 6.1.0\n",
      "\n",
      "numpy 1.13.3\n",
      "pandas 0.20.3\n",
      "matplotlib 2.1.0\n",
      "tensorflow 1.3.0\n",
      "\n",
      "compiler   : GCC 4.2.1 (Apple Inc. build 5666) (dot 3)\n",
      "system     : Darwin\n",
      "release    : 17.2.0\n",
      "machine    : x86_64\n",
      "processor  : i386\n",
      "CPU cores  : 4\n",
      "interpreter: 64bit\n"
     ]
    }
   ],
   "source": [
    "## 运行环境\n",
    "%load_ext watermark\n",
    "%watermark -a 'Hugo' -d -v -m -p numpy,pandas,matplotlib,tensorflow"
   ]
  },
  {
   "cell_type": "code",
   "execution_count": 56,
   "metadata": {
    "collapsed": true
   },
   "outputs": [],
   "source": [
    "import tensorflow as tf\n",
    "import pandas as pd\n",
    "import numpy as np\n",
    "import jieba\n",
    "import time\n",
    "import matplotlib.pyplot as plt\n",
    "from collections import Counter\n",
    "import re"
   ]
  },
  {
   "cell_type": "markdown",
   "metadata": {},
   "source": [
    "## 读取语料并分词统计"
   ]
  },
  {
   "cell_type": "code",
   "execution_count": 57,
   "metadata": {
    "collapsed": true,
    "scrolled": true
   },
   "outputs": [],
   "source": [
    "read_size = 100000\n",
    "vocab_size = 2000 + 1  # 预留一个未登录词\n",
    "\n",
    "with open('../code/ailing.txt') as f:\n",
    "    corpus = f.read(read_size)\n",
    "\n",
    "words = [word for word in jieba.cut(corpus) if word not in ' \\n']\n",
    "word_cnt = Counter(words)"
   ]
  },
  {
   "cell_type": "markdown",
   "metadata": {},
   "source": [
    "## 记录词语的 ID"
   ]
  },
  {
   "cell_type": "code",
   "execution_count": 46,
   "metadata": {
    "collapsed": true
   },
   "outputs": [],
   "source": [
    "vocab = [i[0] for i in word_cnt.most_common(vocab_size - 1)]  # 词表(高频截断)\n",
    "vocab.insert(0, 'UNK') # 不在词表中的词 ID 设为0"
   ]
  },
  {
   "cell_type": "code",
   "execution_count": 47,
   "metadata": {
    "collapsed": true
   },
   "outputs": [],
   "source": [
    "# 将语料序列映射到 [0, vocab_size - 1] 内的整数, 未登录词为 0\n",
    "word_ids = [vocab.index(word) if (word in vocab) else 0 \n",
    "            for word in words]"
   ]
  },
  {
   "cell_type": "markdown",
   "metadata": {},
   "source": [
    "## 生成训练数据"
   ]
  },
  {
   "cell_type": "markdown",
   "metadata": {},
   "source": [
    "CBOW的步骤原理\n",
    "\n",
    "* 构造标签：每个截取窗口的中间位置作为一个 labels_train\n",
    "* 构造训练集：每个截取窗口中，除了 labels_train 之外的部分，作为 inputs_train（这里只左右取了一个）\n",
    "* 这样就形成了根据上下文预测目标词汇的机制，即 CBOW"
   ]
  },
  {
   "cell_type": "code",
   "execution_count": 48,
   "metadata": {
    "collapsed": true
   },
   "outputs": [],
   "source": [
    "# 生成训练数据\n",
    "# 获取中心词的左右各一个词\n",
    "# 中心词的频率\n",
    "\n",
    "inputs_train = np.asarray([[word_ids[i-1], word_ids[i+1]] \n",
    "                           for i in range(1, len(word_ids) - 1)])\n",
    "labels_train = np.asarray(word_ids[1:-1])"
   ]
  },
  {
   "cell_type": "code",
   "execution_count": 49,
   "metadata": {
    "scrolled": true
   },
   "outputs": [
    {
     "data": {
      "text/plain": [
       "(100000, 67906, 2001, (67904, 2), (67904,))"
      ]
     },
     "execution_count": 49,
     "metadata": {},
     "output_type": "execute_result"
    }
   ],
   "source": [
    "len(corpus), len(words), len(vocab), inputs_train.shape, labels_train.shape"
   ]
  },
  {
   "cell_type": "markdown",
   "metadata": {},
   "source": [
    "## 定义 Variable 和 placeholder\n",
    "\n",
    "* Word embedding 定义为 Variable，需要做随机初始化。它相当于普通神经网络中的权重。\n",
    "* input_data 是 int32 类型，表示一个词 ID。这里我们需要对数据进行预处理，把高频词映射到 [1, vocab_size - 1] 之间，不在词表里面的词设置成 UNK, ID 为 0。\n",
    "* input_data 的 Shape，第一维我们指定为 None，可以根据数据而变化，因此同样一个程序可以适应梯度下降时不同的 batch_size。"
   ]
  },
  {
   "cell_type": "code",
   "execution_count": 50,
   "metadata": {
    "collapsed": true
   },
   "outputs": [],
   "source": [
    "tf.reset_default_graph()\n",
    "word_embedding_dim = 128 # word embedding 维度设为 128\n",
    "word_embeddings = tf.Variable(tf.random_uniform([vocab_size, word_embedding_dim])) # 维度为 V*D \n",
    "input_data = tf.placeholder(tf.int32, shape=[None, 2], name='inputs') # 相当于 X 的 placeholder,这里的 context 是左右各取 1 个\n",
    "labels = tf.placeholder(tf.int32, shape=[None], name='labels') # 相当于 Y 的 placeholder"
   ]
  },
  {
   "cell_type": "markdown",
   "metadata": {},
   "source": [
    "## lookup 得到 input 词的 embedding\n",
    "\n",
    "* 对矩阵 inputs 作 lookup 之后，得到的是一个三维的向量。其第1个维度大小未知，取决于样本数量。"
   ]
  },
  {
   "cell_type": "code",
   "execution_count": 51,
   "metadata": {},
   "outputs": [
    {
     "data": {
      "text/plain": [
       "<tf.Tensor 'embedding_lookup:0' shape=(?, 2, 128) dtype=float32>"
      ]
     },
     "execution_count": 51,
     "metadata": {},
     "output_type": "execute_result"
    }
   ],
   "source": [
    "input_embeds = tf.nn.embedding_lookup(word_embeddings, input_data)\n",
    "input_embeds"
   ]
  },
  {
   "cell_type": "markdown",
   "metadata": {},
   "source": [
    "## 词向量相加，并映射到输出层（N 个词的概率分布）\n",
    "* 对两个 context 词的 word embedding 求和。\n",
    "* reduce 开头的函数一般有一个 axis 参数，决定按行、按列或者按整个矩阵进行 reduce 。\n",
    "* 相加得到的 context_embds 的第一维仍然是未知的。"
   ]
  },
  {
   "cell_type": "code",
   "execution_count": 52,
   "metadata": {},
   "outputs": [
    {
     "data": {
      "text/plain": [
       "<tf.Tensor 'Sum:0' shape=(?, 128) dtype=float32>"
      ]
     },
     "execution_count": 52,
     "metadata": {},
     "output_type": "execute_result"
    }
   ],
   "source": [
    "context_embeds = tf.reduce_sum(input_embeds, axis=1)\n",
    "context_embeds"
   ]
  },
  {
   "cell_type": "markdown",
   "metadata": {},
   "source": [
    "## 定义前向传播算法"
   ]
  },
  {
   "cell_type": "code",
   "execution_count": 53,
   "metadata": {
    "collapsed": true
   },
   "outputs": [],
   "source": [
    "raw_output = tf.layers.dense(context_embeds, vocab_size)\n",
    "output = tf.nn.softmax(raw_output)"
   ]
  },
  {
   "cell_type": "markdown",
   "metadata": {},
   "source": [
    "## 定义损失函数\n",
    "* 同 ch3 task3 类似，softmax 配合 cross entropy 的时候，在求导时两个连着看，也可以做分母的消除，因此在计算 cost 的时候我们要把 raw_output 喂给 tf 的这个损失函数。\n",
    "* 因为我们每个样本的 label 只有一个，使用稠密的 softmax 算 cost 及求导太浪费了。这里使用 sparse 版本即可。如果你的 label 是完整的 N 个词上的概率分布，这时候可以使用 tf.nn.softmax_cross_entropy_with_logits 。"
   ]
  },
  {
   "cell_type": "code",
   "execution_count": 54,
   "metadata": {
    "collapsed": true
   },
   "outputs": [],
   "source": [
    "cost = tf.reduce_mean(\n",
    "    tf.nn.sparse_softmax_cross_entropy_with_logits(logits=raw_output, labels=labels))\n",
    "\n",
    "train_step = tf.train.GradientDescentOptimizer(0.3).minimize(cost)"
   ]
  },
  {
   "cell_type": "markdown",
   "metadata": {},
   "source": [
    "## 随机梯度下降"
   ]
  },
  {
   "cell_type": "code",
   "execution_count": 42,
   "metadata": {},
   "outputs": [
    {
     "name": "stdout",
     "output_type": "stream",
     "text": [
      "KeyboardInterrupt\n",
      "\n",
      "time: 135.58 s\n"
     ]
    }
   ],
   "source": [
    "order = np.arange(len(labels_train))\n",
    "np.random.shuffle(order) #随机化\n",
    "sess = tf.Session()\n",
    "\n",
    "start_time = time.time()\n",
    "try:    \n",
    "    sess.run(tf.global_variables_initializer())\n",
    "    feed = {input_data: inputs_train, labels: labels_train}\n",
    "    costs = []\n",
    "    for i in range(100):\n",
    "        for j in order:\n",
    "            batch_inputs = inputs_train[j].reshape([1, -1])\n",
    "            batch_labels = labels_train[j].reshape([1])\n",
    "            batch_feed = {input_data: batch_inputs, labels: batch_labels}\n",
    "            sess.run(train_step, feed_dict=batch_feed)\n",
    "\n",
    "        loss = sess.run(cost, feed_dict=feed)\n",
    "        costs.append(loss)\n",
    "        #if i % 10 == 0:\n",
    "        print(\"Round {} - Cost: {}\".format(i, loss))      \n",
    "except KeyboardInterrupt:\n",
    "    print('KeyboardInterrupt')\n",
    "finally:\n",
    "    end_time = time.time()\n",
    "    print('\\ntime: {:.2f} s'.format(end_time - start_time))"
   ]
  },
  {
   "cell_type": "code",
   "execution_count": 24,
   "metadata": {},
   "outputs": [
    {
     "data": {
      "text/plain": [
       "[<matplotlib.lines.Line2D at 0x1205a4b38>]"
      ]
     },
     "execution_count": 24,
     "metadata": {},
     "output_type": "execute_result"
    },
    {
     "data": {
      "image/png": "[encoded data removed]",
      "text/plain": [
       "<matplotlib.figure.Figure at 0x120433cf8>"
      ]
     },
     "metadata": {},
     "output_type": "display_data"
    }
   ],
   "source": [
    "%matplotlib inline\n",
    "plt.plot(costs)"
   ]
  },
  {
   "cell_type": "markdown",
   "metadata": {},
   "source": [
    "## 向量空间余弦相似度(Cosine Similarity)\n",
    "* 余弦相似度用向量空间中两个向量夹角的余弦值作为衡量两个个体间差异的大小。相比距离度量，余弦相似度更加注重两个向量在方向上的差异，而非距离或长度上。\n",
    "* 公式：$cos\\theta=\\frac{\\vec{x}\\vec{y}}{||x||||y||}$"
   ]
  },
  {
   "cell_type": "code",
   "execution_count": 25,
   "metadata": {
    "collapsed": true
   },
   "outputs": [],
   "source": [
    "validate_words = ['太太', '流苏', '香港', '女人']\n",
    "validate_ids = [vocab.index(word) for word in validate_words]\n",
    "validate_inputs = tf.constant(validate_ids, dtype=tf.int32)\n",
    "\n",
    "norm = tf.sqrt(tf.reduce_sum(tf.square(word_embeddings), 1, keep_dims=True))\n",
    "normalized_embeddings = word_embeddings / norm\n",
    "validate_embeddings = tf.nn.embedding_lookup(normalized_embeddings, validate_inputs)\n",
    "similarity = tf.matmul(validate_embeddings, normalized_embeddings, transpose_b=True)"
   ]
  },
  {
   "cell_type": "code",
   "execution_count": 27,
   "metadata": {},
   "outputs": [
    {
     "name": "stdout",
     "output_type": "stream",
     "text": [
      "太太\n",
      "similar word： 爸爸\n",
      "similar word： 过来\n",
      "similar word： 无线电\n",
      "similar word： 乔诚\n",
      "similar word： 先生\n",
      "similar word： 做出\n",
      "similar word： 不免\n",
      "similar word： 女孩子\n",
      "similar word： 枕头\n",
      "similar word： 活动\n",
      "-----------------\n",
      "流苏\n",
      "similar word： 宗桢\n",
      "similar word： 三爷\n",
      "similar word： 罗杰\n",
      "similar word： 众人\n",
      "similar word： 柳原\n",
      "similar word： 传庆\n",
      "similar word： 麦菲生\n",
      "similar word： 丹朱\n",
      "similar word： 笑了起来\n",
      "similar word： 那人\n",
      "-----------------\n",
      "香港\n",
      "similar word： 床沿\n",
      "similar word： 无数\n",
      "similar word： 活\n",
      "similar word： 英国\n",
      "similar word： 殖民地\n",
      "similar word： 生\n",
      "similar word： 哪儿\n",
      "similar word： 世上\n",
      "similar word： 几支\n",
      "similar word： 晚\n",
      "-----------------\n",
      "女人\n",
      "similar word： 乔\n",
      "similar word： 女孩子\n",
      "similar word： 颜色\n",
      "similar word： 理由\n",
      "similar word： 口气\n",
      "similar word： 天\n",
      "similar word： 下巴\n",
      "similar word： 态度\n",
      "similar word： 春天\n",
      "similar word： 天生\n",
      "-----------------\n"
     ]
    }
   ],
   "source": [
    "sim_values = sess.run(similarity, feed_dict=feed)\n",
    "for i in range(len(validate_words)):\n",
    "    word = validate_words[i]\n",
    "    similar_ids = (-sim_values[i, :]).argsort()[1: 11]\n",
    "    similar_words = [vocab[j] for j in similar_ids]\n",
    "    print(word)\n",
    "    for similar_item in similar_words:\n",
    "        print('similar word：',(similar_item))\n",
    "    print(\"-----------------\")"
   ]
  },
  {
   "cell_type": "code",
   "execution_count": null,
   "metadata": {
    "collapsed": true
   },
   "outputs": [],
   "source": []
  }
 ],
 "metadata": {
  "kernelspec": {
   "display_name": "Python 3",
   "language": "python",
   "name": "python3"
  },
  "language_info": {
   "codemirror_mode": {
    "name": "ipython",
    "version": 3
   },
   "file_extension": ".py",
   "mimetype": "text/x-python",
   "name": "python",
   "nbconvert_exporter": "python",
   "pygments_lexer": "ipython3",
   "version": "3.6.3"
  },
  "toc": {
   "nav_menu": {},
   "number_sections": true,
   "sideBar": true,
   "skip_h1_title": false,
   "toc_cell": false,
   "toc_position": {},
   "toc_section_display": "block",
   "toc_window_display": false
  }
 },
 "nbformat": 4,
 "nbformat_minor": 2
}
