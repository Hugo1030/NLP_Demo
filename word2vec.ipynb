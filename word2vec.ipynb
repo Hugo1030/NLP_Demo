{
 "cells": [
  {
   "cell_type": "code",
   "execution_count": 1,
   "metadata": {
    "scrolled": false
   },
   "outputs": [
    {
     "name": "stdout",
     "output_type": "stream",
     "text": [
      "CPython 3.6.2\n",
      "IPython 6.1.0\n",
      "\n",
      "tensorflow 1.0.0\n",
      "numpy 1.13.3\n",
      "\n",
      "compiler   : GCC 4.2.1 (Apple Inc. build 5666) (dot 3)\n",
      "system     : Darwin\n",
      "release    : 17.3.0\n",
      "machine    : x86_64\n",
      "processor  : i386\n",
      "CPU cores  : 4\n",
      "interpreter: 64bit\n"
     ]
    }
   ],
   "source": [
    "%load_ext watermark\n",
    "%watermark -p tensorflow,numpy -v -m"
   ]
  },
  {
   "cell_type": "code",
   "execution_count": 36,
   "metadata": {},
   "outputs": [],
   "source": [
    "import codecs\n",
    "import jieba\n",
    "import nltk\n",
    "import numpy as np\n",
    "import tensorflow as tf\n",
    "from collections import Counter\n",
    "import time\n",
    "import matplotlib.pyplot as plt \n",
    "\n",
    "from tensorflow.contrib.legacy_seq2seq import basic_rnn_seq2seq, embedding_rnn_seq2seq, sequence_loss\n",
    "from tensorflow.python.ops import variable_scope\n",
    "%matplotlib inline"
   ]
  },
  {
   "cell_type": "markdown",
   "metadata": {},
   "source": [
    "## 数据清洗"
   ]
  },
  {
   "cell_type": "code",
   "execution_count": 3,
   "metadata": {
    "collapsed": true
   },
   "outputs": [],
   "source": [
    "en_train_path = '../code/TED_en_train.txt'\n",
    "zh_train_path = '../code/TED_zh_train.txt'\n",
    "en_test_path = '../code/TED_en_test.txt'\n",
    "zh_test_path = '../code/TED_zh_test.txt'"
   ]
  },
  {
   "cell_type": "code",
   "execution_count": 4,
   "metadata": {
    "collapsed": true
   },
   "outputs": [],
   "source": [
    "# 英文分词\n",
    "def load_en_data(en_path):\n",
    "    line_no = 0\n",
    "    limits = 1000 # 限定读取大小\n",
    "    en_data = []\n",
    "    all_words = []\n",
    "    with open(en_path, 'r', encoding='utf-8', errors='ignore') as f:\n",
    "        for line in f.readlines():\n",
    "            line_no += 1\n",
    "            if line_no >= limits:\n",
    "                break\n",
    "            words = nltk.tokenize.word_tokenize(line.strip())\n",
    "            en_data.append(words)\n",
    "            for word in words:\n",
    "                all_words.append(word)\n",
    "    return en_data,all_words"
   ]
  },
  {
   "cell_type": "code",
   "execution_count": 5,
   "metadata": {
    "collapsed": true
   },
   "outputs": [],
   "source": [
    "en_train_data,en_train_words = load_en_data(en_train_path)\n",
    "en_test_data,en_test_words = load_en_data(en_test_path)"
   ]
  },
  {
   "cell_type": "code",
   "execution_count": 48,
   "metadata": {},
   "outputs": [
    {
     "data": {
      "image/png": "[encoded data removed]",
      "text/plain": [
       "<matplotlib.figure.Figure at 0x1243c1518>"
      ]
     },
     "metadata": {},
     "output_type": "display_data"
    }
   ],
   "source": [
    "en_lengths = [len(s) for s in en_train_data] \n",
    "plt.hist(en_lengths);"
   ]
  },
  {
   "cell_type": "code",
   "execution_count": 6,
   "metadata": {
    "collapsed": true
   },
   "outputs": [],
   "source": [
    "# 中文分词\n",
    "def load_zh_data(zh_path):\n",
    "    zh_data = []\n",
    "    all_words = []\n",
    "    line_no = 0\n",
    "    limits = 1000 # 限定读取大小\n",
    "    with open(zh_path, 'r') as f:\n",
    "        for line in f.readlines():\n",
    "            line_no += 1\n",
    "            if line_no >= limits:\n",
    "                break\n",
    "            words = [word for word in jieba.cut(line.strip())]\n",
    "            zh_data.append(words)\n",
    "            for word in words:\n",
    "                all_words.append(word)\n",
    "    return zh_data,all_words"
   ]
  },
  {
   "cell_type": "code",
   "execution_count": 7,
   "metadata": {
    "scrolled": false
   },
   "outputs": [
    {
     "name": "stderr",
     "output_type": "stream",
     "text": [
      "Building prefix dict from the default dictionary ...\n",
      "Loading model from cache /var/folders/g5/df85rhb10jb9qpw1wdlh0t_m0000gn/T/jieba.cache\n",
      "Loading model cost 0.929 seconds.\n",
      "Prefix dict has been built succesfully.\n"
     ]
    }
   ],
   "source": [
    "zh_train_data,zh_train_words = load_zh_data(zh_train_path)\n",
    "zh_test_data,zh_test_words = load_zh_data(zh_test_path)"
   ]
  },
  {
   "cell_type": "code",
   "execution_count": 49,
   "metadata": {},
   "outputs": [
    {
     "data": {
      "image/png": "[encoded data removed]",
      "text/plain": [
       "<matplotlib.figure.Figure at 0x124af4320>"
      ]
     },
     "metadata": {},
     "output_type": "display_data"
    }
   ],
   "source": [
    "zh_lengths = [len(s) for s in zh_train_data] \n",
    "plt.hist(zh_lengths);"
   ]
  },
  {
   "cell_type": "code",
   "execution_count": 8,
   "metadata": {
    "collapsed": true
   },
   "outputs": [],
   "source": [
    "# 词表 Init\n",
    "UNK = \"<UNK>\"  # 标记未出现在词汇表中的字符\n",
    "PAD = \"<PAD>\"  \n",
    "GO = \"<GO>\"    # 开始\n",
    "EOS = \"<EOS>\"  # 结束\n",
    "START_VOCABULART = [UNK, PAD, GO, EOS]\n",
    "#vocab_size = 10000"
   ]
  },
  {
   "cell_type": "code",
   "execution_count": 11,
   "metadata": {},
   "outputs": [],
   "source": [
    "# 构建英语词表，及将词标注 Index ，去掉词频小于 2 的词\n",
    "en_vocab = []\n",
    "for word,cnt in Counter(en_train_words).most_common():\n",
    "    if cnt > 1:\n",
    "        en_vocab.append(word)\n",
    "    else:\n",
    "        break\n",
    "en_idx_dict = dict(zip(en_vocab, range(len(en_vocab))))"
   ]
  },
  {
   "cell_type": "code",
   "execution_count": 13,
   "metadata": {
    "collapsed": true
   },
   "outputs": [],
   "source": [
    "# 构建中文词表，及将词标注 Index，去掉词频小于 2 的词\n",
    "zh_vocab = START_VOCABULART\n",
    "for word,cnt in Counter(zh_train_words).most_common():\n",
    "    if cnt > 1:\n",
    "        zh_vocab.append(word)\n",
    "    else:\n",
    "        break\n",
    "zh_idx_dict = dict(zip(zh_vocab, range(len(zh_vocab))))"
   ]
  },
  {
   "cell_type": "code",
   "execution_count": 15,
   "metadata": {
    "collapsed": true
   },
   "outputs": [],
   "source": [
    "# 得到词表大小\n",
    "num_encoder_symbols = len(en_vocab)\n",
    "num_decoder_symbols = len(zh_vocab)"
   ]
  },
  {
   "cell_type": "code",
   "execution_count": 16,
   "metadata": {
    "collapsed": true
   },
   "outputs": [],
   "source": [
    "# 为中文集增加 token\n",
    "def get_token(data):\n",
    "    zh_set = []\n",
    "    for line in data:\n",
    "        zh_set.append(['<GO>'] + line + ['<EOS>'])\n",
    "    return zh_set"
   ]
  },
  {
   "cell_type": "code",
   "execution_count": 17,
   "metadata": {
    "collapsed": true
   },
   "outputs": [],
   "source": [
    "zh_train_set = get_token(zh_train_data)\n",
    "zh_test_set = get_token(zh_test_data)"
   ]
  },
  {
   "cell_type": "code",
   "execution_count": 21,
   "metadata": {
    "collapsed": true
   },
   "outputs": [],
   "source": [
    "# 将句子转换为向量\n",
    "def convert_to_vector(data, vocab, idx_dict):\n",
    "    data_index = []\n",
    "    for line in data:\n",
    "        index_content = []\n",
    "        for word in line:\n",
    "            idx = idx_dict[word] if (word in vocab) else 0\n",
    "            index_content.append(idx)\n",
    "        data_index.append(index_content)\n",
    "    return data_index"
   ]
  },
  {
   "cell_type": "code",
   "execution_count": 22,
   "metadata": {
    "collapsed": true,
    "scrolled": false
   },
   "outputs": [],
   "source": [
    "en_train_index = convert_to_vector(en_train_data, en_vocab, en_idx_dict)\n",
    "zh_train_index = convert_to_vector(zh_train_set, zh_vocab, zh_idx_dict)"
   ]
  },
  {
   "cell_type": "code",
   "execution_count": 23,
   "metadata": {
    "collapsed": true
   },
   "outputs": [],
   "source": [
    "en_test_index = convert_to_vector(en_test_data, en_vocab, en_idx_dict)\n",
    "zh_test_index = convert_to_vector(zh_test_set, zh_vocab, zh_idx_dict)"
   ]
  },
  {
   "cell_type": "code",
   "execution_count": 25,
   "metadata": {
    "collapsed": true
   },
   "outputs": [],
   "source": [
    "# 将数据分为不同的 buckets\n",
    "_buckets = [(10, 10), (15, 15), (20, 20)]\n",
    "def to_buckets(en_train_data, zh_train_set):\n",
    "    data_set = [[] for _ in _buckets]\n",
    "    for source, target in zip(en_train_data, zh_train_set):\n",
    "        for bucket_id, (source_size, target_size) in enumerate(_buckets):\n",
    "            if len(source) <= source_size and len(target) <= target_size:\n",
    "                data_set[bucket_id].append([source, target])\n",
    "                break\n",
    "    return data_set"
   ]
  },
  {
   "cell_type": "code",
   "execution_count": 26,
   "metadata": {
    "collapsed": true,
    "scrolled": true
   },
   "outputs": [],
   "source": [
    "train_data_set = to_buckets(en_train_index, zh_train_index)\n",
    "test_data_set = to_buckets(en_test_index, zh_test_index)"
   ]
  },
  {
   "cell_type": "code",
   "execution_count": 27,
   "metadata": {
    "collapsed": true
   },
   "outputs": [],
   "source": [
    "# 对数据完成 padding，encoder 在开头 padding，decoder 在结尾 padding\n",
    "def get_padding(inputs, _buckets):\n",
    "    PAD = 1 # idx of PAD\n",
    "    data_set = [[] for _ in _buckets]\n",
    "    for bucket_id, (source_size, target_size) in enumerate(_buckets):\n",
    "        data = inputs[bucket_id]\n",
    "        for source, target in data:\n",
    "            new_source = [PAD] * (source_size - len(source)) + source\n",
    "            new_target = target + [PAD] * (target_size - len(target))\n",
    "            data_set[bucket_id].append([new_source, new_target])\n",
    "    return data_set"
   ]
  },
  {
   "cell_type": "code",
   "execution_count": 28,
   "metadata": {
    "collapsed": true
   },
   "outputs": [],
   "source": [
    "train_data_padding = get_padding(train_data_set, _buckets)\n",
    "test_data_padding = get_padding(test_data_set, _buckets)"
   ]
  },
  {
   "cell_type": "code",
   "execution_count": 29,
   "metadata": {
    "collapsed": true
   },
   "outputs": [],
   "source": [
    "data_sizes = [len(train_data_padding[i]) for i in range(len(_buckets))]"
   ]
  },
  {
   "cell_type": "code",
   "execution_count": 31,
   "metadata": {
    "scrolled": false
   },
   "outputs": [
    {
     "data": {
      "text/plain": [
       "[660, 289, 46]"
      ]
     },
     "execution_count": 31,
     "metadata": {},
     "output_type": "execute_result"
    }
   ],
   "source": [
    "data_sizes"
   ]
  },
  {
   "cell_type": "markdown",
   "metadata": {},
   "source": [
    "## 构建 seq2seq 模型"
   ]
  },
  {
   "cell_type": "code",
   "execution_count": 23,
   "metadata": {
    "collapsed": true
   },
   "outputs": [],
   "source": [
    "# 重置 graph\n",
    "tf.reset_default_graph()"
   ]
  },
  {
   "cell_type": "code",
   "execution_count": 24,
   "metadata": {
    "collapsed": true
   },
   "outputs": [],
   "source": [
    "# 模型相关参数\n",
    "cell_size = 128\n",
    "embedding_size = 128\n",
    "batch_size = 50"
   ]
  },
  {
   "cell_type": "code",
   "execution_count": 25,
   "metadata": {
    "collapsed": true
   },
   "outputs": [],
   "source": [
    "# 定义 GRU Cell\n",
    "cell = tf.contrib.rnn.GRUCell(cell_size)"
   ]
  },
  {
   "cell_type": "code",
   "execution_count": 26,
   "metadata": {
    "collapsed": true
   },
   "outputs": [],
   "source": [
    "#取句子 padding 后的最大可能长度\n",
    "max_encoder_length, max_decoder_length = _buckets[-1]"
   ]
  },
  {
   "cell_type": "code",
   "execution_count": 27,
   "metadata": {
    "collapsed": true
   },
   "outputs": [],
   "source": [
    "# placeholders init\n",
    "encoder_placeholders = [\n",
    "    tf.placeholder(tf.int32, shape=[None], name=\"encoder_%d\" % i)\n",
    "    for i in range(max_encoder_length)]\n",
    "decoder_placeholders = [\n",
    "    tf.placeholder(tf.int32, shape=[None], name=\"decoder_%d\" % i)\n",
    "    for i in range(max_decoder_length)]\n",
    "target_placeholders = [\n",
    "    tf.placeholder(tf.int32, shape=[None], name=\"target_%d\" % i)\n",
    "    for i in range(max_decoder_length)]\n",
    "target_weights_placeholders = [\n",
    "    tf.placeholder(tf.float32, shape=[None], name=\"decoder_weight_%d\" % i)\n",
    "    for i in range(max_decoder_length)]"
   ]
  },
  {
   "cell_type": "code",
   "execution_count": 29,
   "metadata": {},
   "outputs": [],
   "source": [
    "num_samples = 256\n",
    "w_t = tf.get_variable(\"proj_w\", [num_decoder_symbols, batch_size], dtype=tf.float32)\n",
    "w = tf.transpose(w_t)\n",
    "b = tf.get_variable(\"proj_b\", [num_decoder_symbols], dtype=tf.float32)\n",
    "output_projection = (w, b)\n",
    "\n",
    "def softmax_loss_function(labels, logits):\n",
    "    labels = tf.reshape(labels, [-1, 1])\n",
    "    # We need to compute the sampled_softmax_loss using 32bit floats to\n",
    "    # avoid numerical instabilities.\n",
    "    local_w_t = tf.cast(w_t, tf.float32)\n",
    "    local_b = tf.cast(b, tf.float32)\n",
    "    local_inputs = tf.cast(logits, tf.float32)\n",
    "    return tf.cast(\n",
    "        tf.nn.sampled_softmax_loss(\n",
    "            weights=local_w_t,\n",
    "            biases=local_b,\n",
    "            labels=labels,\n",
    "            inputs=local_inputs,\n",
    "            num_sampled=num_samples,\n",
    "            num_classes=num_decoder_symbols),\n",
    "            dtype=tf.float32)"
   ]
  },
  {
   "cell_type": "code",
   "execution_count": 30,
   "metadata": {
    "collapsed": true
   },
   "outputs": [],
   "source": [
    "# 用于model_with_buckets模型的seq2seq参数\n",
    "def seq2seq_f(encoder_inputs, decoder_inputs, do_decode):\n",
    "    return embedding_rnn_seq2seq(\n",
    "                        encoder_inputs, \n",
    "                        decoder_inputs, \n",
    "                        cell,\n",
    "                        num_encoder_symbols, \n",
    "                        num_decoder_symbols,\n",
    "                        embedding_size, \n",
    "                        output_projection=None,\n",
    "                        feed_previous=False)"
   ]
  },
  {
   "cell_type": "code",
   "execution_count": 31,
   "metadata": {},
   "outputs": [],
   "source": [
    "outputs, losses = tf.contrib.legacy_seq2seq.model_with_buckets(\n",
    "        encoder_placeholders, decoder_placeholders, target_placeholders,\n",
    "        target_weights_placeholders, _buckets, lambda x, y: seq2seq_f(x, y, False),\n",
    "        softmax_loss_function=None)"
   ]
  },
  {
   "cell_type": "markdown",
   "metadata": {},
   "source": [
    "## 准备 feed 数据"
   ]
  },
  {
   "cell_type": "code",
   "execution_count": 32,
   "metadata": {
    "collapsed": true
   },
   "outputs": [],
   "source": [
    "def left_shift(decoder_inputs):\n",
    "    \"\"\"generate targets grom decoder_inputs\"\"\"\n",
    "    return [list(input_[1:]) + [_PAD_ID] for input_ in decoder_inputs]\n",
    "\n",
    "def get_bucket_inputs(encoder_data, decoder_data, bucket_id):\n",
    "    encoder_inputs = encoder_data[bucket_id]\n",
    "    decoder_inputs = decoder_data[bucket_id]\n",
    "    return (encoder_inputs, decoder_inputs)\n",
    "\n",
    "def get_batch_inputs(encoder_data, decoder_data, bucket_id, batch_start, batch_size):\n",
    "    encoder_inputs = encoder_data[bucket_id][batch_start : batch_start+batch_size]\n",
    "    decoder_inputs = decoder_data[bucket_id][batch_start : batch_start+batch_size]\n",
    "    return (encoder_inputs, decoder_inputs)\n",
    "\n",
    "def generate_feed_dict(inputs_tuple, encoder_size, decoder_size):\n",
    "    \"\"\"对 inputs 做转置, 并喂给 placeholder 列表, 得到 feed_dict\"\"\"\n",
    "    encoder_inputs, decoder_inputs = inputs_tuple\n",
    "    encoder_inputs = list(zip(*encoder_inputs))\n",
    "    target_inputs = list(zip(*left_shift(decoder_inputs)))\n",
    "    decoder_inputs = list(zip(*decoder_inputs)) \n",
    "    \n",
    "    feed_dict = dict()\n",
    "    # Prepare input data\n",
    "    for i in range(encoder_size):\n",
    "        # 这里用 placeholder 或者 placeholder.name 都可以\n",
    "        feed_dict[encoder_placeholders[i].name] = np.asarray(encoder_inputs[i], dtype=int)\n",
    "    for i in range(decoder_size):\n",
    "        feed_dict[decoder_placeholders[i].name] = np.asarray(decoder_inputs[i], dtype=int)\n",
    "        feed_dict[target_placeholders[i].name] = np.asarray(target_inputs[i], dtype=int)        \n",
    "        # 这里使用 weights 把 <PAD> 的损失屏蔽了\n",
    "        feed_dict[target_weights_placeholders[i].name] = np.asarray(\n",
    "            [float(idx != _PAD_ID) for idx in target_inputs[i]], dtype=float)\n",
    "    return feed_dict"
   ]
  },
  {
   "cell_type": "markdown",
   "metadata": {},
   "source": [
    "## 训练模型"
   ]
  },
  {
   "cell_type": "code",
   "execution_count": 33,
   "metadata": {
    "collapsed": true
   },
   "outputs": [],
   "source": [
    "# 训练相关参数\n",
    "epochs = 500\n",
    "print_loss_every = 5\n",
    "learning_rate = 3\n",
    "batch_size = 50"
   ]
  },
  {
   "cell_type": "code",
   "execution_count": 35,
   "metadata": {},
   "outputs": [],
   "source": [
    "# 把不同 bucket 的 loss 分别传给 optimizer, 得到不同的 train_step. 不知可否?\n",
    "train_steps = [tf.train.AdagradOptimizer(learning_rate).minimize(losses[i]) \n",
    "               for i in range(len(_buckets))]\n",
    "\n",
    "sess = tf.Session()\n",
    "sess.run(tf.global_variables_initializer())"
   ]
  },
  {
   "cell_type": "code",
   "execution_count": 36,
   "metadata": {},
   "outputs": [
    {
     "name": "stdout",
     "output_type": "stream",
     "text": [
      "Epoch bucket-0 bucket-1 bucket-2 \n",
      "\n",
      "   0 "
     ]
    },
    {
     "ename": "NameError",
     "evalue": "name 'encoder_data' is not defined",
     "output_type": "error",
     "traceback": [
      "\u001b[0;31m---------------------------------------------------------------------------\u001b[0m",
      "\u001b[0;31mNameError\u001b[0m                                 Traceback (most recent call last)",
      "\u001b[0;32m<ipython-input-36-c68b4dee8d9e>\u001b[0m in \u001b[0;36m<module>\u001b[0;34m()\u001b[0m\n\u001b[1;32m     15\u001b[0m             \u001b[0;31m# 输出 loss 过程信息\u001b[0m\u001b[0;34m\u001b[0m\u001b[0;34m\u001b[0m\u001b[0m\n\u001b[1;32m     16\u001b[0m             \u001b[0;32mif\u001b[0m \u001b[0mi\u001b[0m \u001b[0;34m%\u001b[0m \u001b[0mprint_loss_every\u001b[0m \u001b[0;34m==\u001b[0m \u001b[0;36m0\u001b[0m\u001b[0;34m:\u001b[0m\u001b[0;34m\u001b[0m\u001b[0m\n\u001b[0;32m---> 17\u001b[0;31m                 \u001b[0mbucket_inputs\u001b[0m \u001b[0;34m=\u001b[0m \u001b[0mget_bucket_inputs\u001b[0m\u001b[0;34m(\u001b[0m\u001b[0mencoder_data\u001b[0m\u001b[0;34m,\u001b[0m \u001b[0mdecoder_data\u001b[0m\u001b[0;34m,\u001b[0m \u001b[0mbucket_id\u001b[0m\u001b[0;34m)\u001b[0m\u001b[0;34m\u001b[0m\u001b[0m\n\u001b[0m\u001b[1;32m     18\u001b[0m                 \u001b[0mbucket_feed\u001b[0m \u001b[0;34m=\u001b[0m \u001b[0mgenerate_feed_dict\u001b[0m\u001b[0;34m(\u001b[0m\u001b[0mbucket_inputs\u001b[0m\u001b[0;34m,\u001b[0m \u001b[0mencoder_size\u001b[0m\u001b[0;34m,\u001b[0m \u001b[0mdecoder_size\u001b[0m\u001b[0;34m)\u001b[0m\u001b[0;34m\u001b[0m\u001b[0m\n\u001b[1;32m     19\u001b[0m                 \u001b[0mloss_val\u001b[0m \u001b[0;34m=\u001b[0m \u001b[0msess\u001b[0m\u001b[0;34m.\u001b[0m\u001b[0mrun\u001b[0m\u001b[0;34m(\u001b[0m\u001b[0mlosses\u001b[0m\u001b[0;34m[\u001b[0m\u001b[0mbucket_id\u001b[0m\u001b[0;34m]\u001b[0m\u001b[0;34m,\u001b[0m \u001b[0mfeed_dict\u001b[0m\u001b[0;34m=\u001b[0m\u001b[0mbucket_feed\u001b[0m\u001b[0;34m)\u001b[0m\u001b[0;34m\u001b[0m\u001b[0m\n",
      "\u001b[0;31mNameError\u001b[0m: name 'encoder_data' is not defined"
     ]
    }
   ],
   "source": [
    "# Training\n",
    "start_time = time.time()\n",
    "try:\n",
    "    print('Epoch ' + ''.join(['bucket-{} '.format(i) for i in range(len(_buckets))]))\n",
    "    for i in range(epochs):\n",
    "        if i % print_loss_every == 0:\n",
    "            print('\\n{: 4d}'.format(i), end=' ')\n",
    "\n",
    "        for bucket_id in range(len(_buckets)):\n",
    "            cur_data_size = data_sizes[bucket_id]\n",
    "            if cur_data_size == 0:\n",
    "                continue  # 某个 bucket 为空的特殊情形\n",
    "            encoder_size, decoder_size = _buckets[bucket_id]\n",
    "            \n",
    "            # 输出 loss 过程信息\n",
    "            if i % print_loss_every == 0:\n",
    "                bucket_inputs = get_bucket_inputs(encoder_data, decoder_data, bucket_id)\n",
    "                bucket_feed = generate_feed_dict(bucket_inputs, encoder_size, decoder_size)\n",
    "                loss_val = sess.run(losses[bucket_id], feed_dict=bucket_feed)\n",
    "                print('{: 8.4f}'.format(loss_val), end=' ')\n",
    "            \n",
    "            # 训练\n",
    "            for batch_start in range(0, cur_data_size, batch_size):\n",
    "                batch_inputs = get_batch_inputs(\n",
    "                    encoder_data, decoder_data, bucket_id, batch_start, batch_size)\n",
    "                batch_feed = generate_feed_dict(batch_inputs, encoder_size, decoder_size)\n",
    "                sess.run(train_steps[bucket_id], feed_dict=batch_feed)\n",
    "except KeyboardInterrupt:\n",
    "    print('\\nKeyboardInterrup')\n",
    "\n",
    "print('Train time: {} s'.format(time.time() - start_time))"
   ]
  },
  {
   "cell_type": "code",
   "execution_count": null,
   "metadata": {
    "collapsed": true
   },
   "outputs": [],
   "source": []
  }
 ],
 "metadata": {
  "kernelspec": {
   "display_name": "Python 3",
   "language": "python",
   "name": "python3"
  },
  "language_info": {
   "codemirror_mode": {
    "name": "ipython",
    "version": 3
   },
   "file_extension": ".py",
   "mimetype": "text/x-python",
   "name": "python",
   "nbconvert_exporter": "python",
   "pygments_lexer": "ipython3",
   "version": "3.6.2"
  },
  "toc": {
   "nav_menu": {},
   "number_sections": true,
   "sideBar": true,
   "skip_h1_title": false,
   "toc_cell": false,
   "toc_position": {},
   "toc_section_display": "block",
   "toc_window_display": false
  }
 },
 "nbformat": 4,
 "nbformat_minor": 2
}
