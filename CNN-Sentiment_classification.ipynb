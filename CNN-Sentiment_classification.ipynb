{
 "cells": [
  {
   "cell_type": "markdown",
   "metadata": {},
   "source": [
    "# 应用卷积神经网络\n",
    "\n",
    "应用卷积神经网络实现情感分类\n",
    "\n",
    "请你多多使用工程思维、标准化格式完成作业：\n",
    "\n",
    "能够读取格式固定的训练、测试数据\n",
    "\n",
    "格式输出 Accuracy and Confusion Matrix 结果"
   ]
  },
  {
   "cell_type": "markdown",
   "metadata": {},
   "source": [
    "# 卷积神经网络用语自然语言处理示例"
   ]
  },
  {
   "cell_type": "code",
   "execution_count": 1,
   "metadata": {},
   "outputs": [
    {
     "name": "stdout",
     "output_type": "stream",
     "text": [
      "CPython 3.6.2\n",
      "IPython 6.1.0\n",
      "\n",
      "tensorflow 1.3.0\n",
      "numpy 1.13.3\n",
      "\n",
      "compiler   : GCC 4.2.1 (Apple Inc. build 5666) (dot 3)\n",
      "system     : Darwin\n",
      "release    : 17.2.0\n",
      "machine    : x86_64\n",
      "processor  : i386\n",
      "CPU cores  : 4\n",
      "interpreter: 64bit\n"
     ]
    }
   ],
   "source": [
    "# 示例代码运行环境\n",
    "%load_ext watermark\n",
    "%watermark -p tensorflow,numpy -v -m"
   ]
  },
  {
   "cell_type": "code",
   "execution_count": 2,
   "metadata": {
    "collapsed": true
   },
   "outputs": [],
   "source": [
    "import tensorflow as tf\n",
    "import numpy as np\n",
    "import matplotlib.pyplot as plt\n",
    "import jieba\n",
    "from collections import Counter\n",
    "import time\n",
    "%matplotlib inline"
   ]
  },
  {
   "cell_type": "markdown",
   "metadata": {},
   "source": [
    "## 数据清洗（此部分参照 ch5-task01）"
   ]
  },
  {
   "cell_type": "code",
   "execution_count": 3,
   "metadata": {
    "collapsed": true
   },
   "outputs": [],
   "source": [
    "# 读取文件，将内容及标签分别存放\n",
    "def read_doc(file):\n",
    "    docs = []\n",
    "    labels = []\n",
    "    with open(file) as f:\n",
    "        for line in f.readlines():\n",
    "            labels.append(line.strip().split(\"\\t\")[1]) # 取出标签\n",
    "            words = []\n",
    "            for word in jieba.cut(line.strip()):\n",
    "                if word>=u'\\u4e00' and word<=u'\\u9fff': # 去掉标点、英文等字符\n",
    "                    words.append(word)\n",
    "            docs.append(words)\n",
    "    return docs,labels"
   ]
  },
  {
   "cell_type": "code",
   "execution_count": 4,
   "metadata": {
    "collapsed": true
   },
   "outputs": [],
   "source": [
    "filelist = [\"../code/train_shuffle.txt\", \"../code/test_shuffle.txt\"]"
   ]
  },
  {
   "cell_type": "code",
   "execution_count": 5,
   "metadata": {},
   "outputs": [
    {
     "name": "stderr",
     "output_type": "stream",
     "text": [
      "Building prefix dict from the default dictionary ...\n",
      "Loading model from cache /var/folders/g5/df85rhb10jb9qpw1wdlh0t_m0000gn/T/jieba.cache\n",
      "Loading model cost 1.031 seconds.\n",
      "Prefix dict has been built succesfully.\n"
     ]
    }
   ],
   "source": [
    "# train_shuffle.txt 的第 14058 行，评论为空，label 为0，\n",
    "# 这样会导致 IndexError: list index out of range,删除后 OK\n",
    "\n",
    "train_docs,train_labels = read_doc(filelist[0])\n",
    "test_docs,test_labels = read_doc(filelist[1])"
   ]
  },
  {
   "cell_type": "code",
   "execution_count": 6,
   "metadata": {
    "collapsed": true
   },
   "outputs": [],
   "source": [
    "# 固定句子长度和 padding\n",
    "fix_length = 30\n",
    "padding = ['<PD>']"
   ]
  },
  {
   "cell_type": "code",
   "execution_count": 7,
   "metadata": {
    "collapsed": true
   },
   "outputs": [],
   "source": [
    "# 将所有样本设定为固定长度，小于 fix_length 用 Padding 填充\n",
    "# 大于 fix_length 的部分，从后面截断\n",
    "def get_padding(docs):\n",
    "    for i in range(len(docs)):\n",
    "        if len(docs[i]) < fix_length:\n",
    "            docs[i].extend(padding*(fix_length-len(docs[i])))\n",
    "        else:\n",
    "            docs[i] = docs[i][:fix_length]\n",
    "    return docs"
   ]
  },
  {
   "cell_type": "code",
   "execution_count": 8,
   "metadata": {
    "collapsed": true
   },
   "outputs": [],
   "source": [
    "train_content = get_padding(train_docs)\n",
    "test_content = get_padding(test_docs)"
   ]
  },
  {
   "cell_type": "code",
   "execution_count": 9,
   "metadata": {
    "collapsed": true
   },
   "outputs": [],
   "source": [
    "# 统计词频\n",
    "def get_counter(docs):\n",
    "    all_words = []\n",
    "    for words in docs:\n",
    "        for word in words:\n",
    "            all_words.append(word)\n",
    "    word_cnt = Counter(all_words)\n",
    "    return word_cnt"
   ]
  },
  {
   "cell_type": "code",
   "execution_count": 10,
   "metadata": {
    "collapsed": true
   },
   "outputs": [],
   "source": [
    "train_cnt = get_counter(train_content)"
   ]
  },
  {
   "cell_type": "code",
   "execution_count": 11,
   "metadata": {
    "collapsed": true
   },
   "outputs": [],
   "source": [
    "# 建立词表\n",
    "def built_vocab(word_cnt):\n",
    "    vocab = ['UNK']\n",
    "    for i in train_cnt.most_common():\n",
    "        if i[1] > 3:\n",
    "            vocab.append(i[0])\n",
    "        else:\n",
    "            break\n",
    "    return vocab"
   ]
  },
  {
   "cell_type": "code",
   "execution_count": 12,
   "metadata": {
    "collapsed": true
   },
   "outputs": [],
   "source": [
    "vocab = built_vocab(train_cnt)\n",
    "vocab_size = len(vocab)"
   ]
  },
  {
   "cell_type": "code",
   "execution_count": 13,
   "metadata": {
    "collapsed": true
   },
   "outputs": [],
   "source": [
    "# 由词映射到序号的字典，可以用分词来查询，得到一个数字\n",
    "idx_dict = dict(zip(vocab, range(len(vocab))))"
   ]
  },
  {
   "cell_type": "code",
   "execution_count": 14,
   "metadata": {
    "collapsed": true
   },
   "outputs": [],
   "source": [
    "# 将词列表转化成序号列表\n",
    "def index_list(docs):\n",
    "    indexs = []\n",
    "    for contents in docs:\n",
    "        index_content = []\n",
    "        for word in contents:\n",
    "            idx = idx_dict[word] if (word in vocab) else 0\n",
    "            index_content.append(idx)\n",
    "        indexs.append(index_content)\n",
    "    return indexs"
   ]
  },
  {
   "cell_type": "code",
   "execution_count": 15,
   "metadata": {
    "collapsed": true
   },
   "outputs": [],
   "source": [
    "# 获取训练数据\n",
    "x_train = np.asarray(index_list(train_content)).astype('int32')\n",
    "y_train = np.asarray(train_labels).astype('int32')"
   ]
  },
  {
   "cell_type": "code",
   "execution_count": 16,
   "metadata": {
    "collapsed": true
   },
   "outputs": [],
   "source": [
    "# 获取测试数据\n",
    "x_test = np.asarray(index_list(test_content)).astype('int32')\n",
    "y_test = np.asarray(test_labels).astype('int32')"
   ]
  },
  {
   "cell_type": "code",
   "execution_count": 17,
   "metadata": {},
   "outputs": [
    {
     "name": "stdout",
     "output_type": "stream",
     "text": [
      "(24585, 30) (24585,) (10538, 30) (10538,) 9043\n"
     ]
    }
   ],
   "source": [
    "print(x_train.shape, y_train.shape, x_test.shape, y_test.shape, vocab_size)"
   ]
  },
  {
   "cell_type": "markdown",
   "metadata": {},
   "source": [
    "## 卷积神经网络"
   ]
  },
  {
   "cell_type": "code",
   "execution_count": 18,
   "metadata": {
    "collapsed": true
   },
   "outputs": [],
   "source": [
    "# 定义神经网络\n",
    "# 输入词序号 -> 词向量 -> 卷积层（tanh） -> max_pool 层 -> 全连接层（sigmoid） -> 输出层\n",
    "word_embed_size = 128\n",
    "filter_num = 64\n",
    "window_size = 3"
   ]
  },
  {
   "cell_type": "code",
   "execution_count": 32,
   "metadata": {
    "collapsed": true
   },
   "outputs": [],
   "source": [
    "tf.reset_default_graph()"
   ]
  },
  {
   "cell_type": "code",
   "execution_count": 19,
   "metadata": {
    "collapsed": true
   },
   "outputs": [],
   "source": [
    "# 随机生成词向量，词向量大小为 word_embed_size\n",
    "tf.reset_default_graph()\n",
    "W = tf.Variable(tf.random_uniform([vocab_size, word_embed_size], -1.0, 1.0),\n",
    "                name='W')\n",
    "x_ = tf.placeholder(tf.int32, shape=[None, fix_length], name='x_')\n",
    "y_ = tf.placeholder(tf.int32, shape=[None], name='y_')"
   ]
  },
  {
   "cell_type": "code",
   "execution_count": 20,
   "metadata": {
    "collapsed": true
   },
   "outputs": [],
   "source": [
    "# 用 x_ 查找 W （词向量）\n",
    "embeds = tf.nn.embedding_lookup(W, x_)"
   ]
  },
  {
   "cell_type": "code",
   "execution_count": 21,
   "metadata": {
    "collapsed": true
   },
   "outputs": [],
   "source": [
    "# 为了适应 conv2d 的参数，拓展了一个维度（in_channel），数量为 1\n",
    "embeds_expand = tf.expand_dims(embeds, -1)"
   ]
  },
  {
   "cell_type": "code",
   "execution_count": 22,
   "metadata": {},
   "outputs": [
    {
     "data": {
      "text/plain": [
       "<tf.Tensor 'ExpandDims:0' shape=(?, 30, 128, 1) dtype=float32>"
      ]
     },
     "execution_count": 22,
     "metadata": {},
     "output_type": "execute_result"
    }
   ],
   "source": [
    "embeds_expand"
   ]
  },
  {
   "cell_type": "code",
   "execution_count": 23,
   "metadata": {
    "scrolled": true
   },
   "outputs": [
    {
     "data": {
      "text/plain": [
       "(<tf.Tensor 'ExpandDims:0' shape=(?, 30, 128, 1) dtype=float32>,\n",
       " [3, 128, 1, 64],\n",
       " <tf.Tensor 'conv-maxpool/conv:0' shape=(?, 28, 1, 64) dtype=float32>,\n",
       " <tf.Tensor 'conv-maxpool/tanh:0' shape=(?, 28, 1, 64) dtype=float32>,\n",
       " <tf.Tensor 'conv-maxpool/pool:0' shape=(?, 1, 1, 64) dtype=float32>)"
      ]
     },
     "execution_count": 23,
     "metadata": {},
     "output_type": "execute_result"
    }
   ],
   "source": [
    "# 构建 conv 层和 max_pooling 层\n",
    "with tf.name_scope(\"conv-maxpool\"):\n",
    "    # 定义卷积核，一次对多少元素进行卷积\n",
    "    # 此处，filter_shape 的第一维对应于 embeds_expand 的第二维，即一次处理多少分词数\n",
    "    # 第二维对应于 embeds_expand 的第三维，一次处理词向量的多少维度。\n",
    "    # 第三维对应于 embeds_expand 的第四维，维通道数。\n",
    "    # 第四维维输出结果的维度\n",
    "    # 因此，卷积核将 3 个 128 维的词向量编程 1 个 64 维词向量\n",
    "    filter_shape = [window_size, word_embed_size, 1, filter_num]\n",
    "    # 定义卷积参数 W, b\n",
    "    W = tf.Variable(tf.random_uniform(filter_shape, -1.0, 1.0), name=\"W\")\n",
    "    b = tf.Variable(tf.constant(0.0, shape=[filter_num]), name='b')\n",
    "    # strides 四个维度都为 1，即每次计算在每个维度上滑动一个元素\n",
    "    # “VALID”模型不做 Padding\n",
    "    conv = tf.nn.conv2d(\n",
    "        embeds_expand, W, strides=[1, 1, 1, 1],\n",
    "        padding=\"VALID\", name=\"conv\")\n",
    "    \n",
    "    # 卷积出来结果加上 bias\n",
    "    conv_hidden = tf.nn.tanh(tf.add(conv, b), name=\"tanh\")\n",
    "    \n",
    "    # 因为没有 padding，出来的结果个数是 sequence_length - window_size + 1\n",
    "    # 如果加了 padding 这里要对应更改\n",
    "    pool = tf.nn.max_pool(\n",
    "        conv_hidden,\n",
    "        ksize=[1, fix_length - window_size + 1, 1, 1],\n",
    "        strides=[1, 1, 1, 1],\n",
    "        padding='VALID',\n",
    "        name=\"pool\")\n",
    "    \n",
    "embeds_expand, filter_shape, conv, conv_hidden, pool"
   ]
  },
  {
   "cell_type": "code",
   "execution_count": 24,
   "metadata": {
    "collapsed": true
   },
   "outputs": [],
   "source": [
    "# squeeze 作用是去除维度，作用与 expand_dims 相反\n",
    "squeezed_pool = tf.squeeze(pool, [1, 2])"
   ]
  },
  {
   "cell_type": "code",
   "execution_count": 25,
   "metadata": {
    "scrolled": true
   },
   "outputs": [
    {
     "data": {
      "text/plain": [
       "<tf.Tensor 'Squeeze:0' shape=(?, 64) dtype=float32>"
      ]
     },
     "execution_count": 25,
     "metadata": {},
     "output_type": "execute_result"
    }
   ],
   "source": [
    "squeezed_pool"
   ]
  },
  {
   "cell_type": "code",
   "execution_count": 26,
   "metadata": {
    "collapsed": true
   },
   "outputs": [],
   "source": [
    "raw_output = tf.layers.dense(squeezed_pool, 2)\n",
    "output = tf.nn.softmax(raw_output)"
   ]
  },
  {
   "cell_type": "code",
   "execution_count": 27,
   "metadata": {
    "collapsed": true
   },
   "outputs": [],
   "source": [
    "# 定义损失函数\n",
    "cost = tf.reduce_mean(\n",
    "    tf.nn.sparse_softmax_cross_entropy_with_logits(\n",
    "        logits=raw_output, labels=y_)\n",
    ")"
   ]
  },
  {
   "cell_type": "code",
   "execution_count": 28,
   "metadata": {
    "collapsed": true
   },
   "outputs": [],
   "source": [
    "# 评估模型指标, 并打印输出\n",
    "def evaluate_model(sess, inputs_, labels_, print_matrix=True):\n",
    "    pred_prob = sess.run(output, feed_dict={x_:inputs_, y_:labels_})\n",
    "    preds = np.asarray((pred_prob[:, 1] > 0.5), dtype=int)\n",
    "    mat = sess.run(tf.confusion_matrix(labels_, preds))\n",
    "    tn, fp, fn, tp = mat.reshape(4)\n",
    "    Accuracy = (tp + tn) / (tn + fp + fn + tp)\n",
    "    if print_matrix:\n",
    "        print(' confusion matrix:\\n', mat)\n",
    "    print('Accuracy  {:.3f}'.format(Accuracy))"
   ]
  },
  {
   "cell_type": "code",
   "execution_count": 29,
   "metadata": {
    "collapsed": true
   },
   "outputs": [],
   "source": [
    "# 定义模型相关参数\n",
    "batch_size = 100\n",
    "epochs = 2000\n",
    "print_cost_every = 10\n",
    "\n",
    "feed_train = {x_: x_train, y_: y_train}\n",
    "feed_test = {x_: x_test, y_: y_test}\n",
    "\n",
    "sess = tf.Session()\n",
    "sess.run(tf.global_variables_initializer())\n",
    "train_step = tf.train.GradientDescentOptimizer(0.3).minimize(cost)\n",
    "\n",
    "costs_train = []\n",
    "costs_test = []\n",
    "start_time = time.time()\n",
    "\n",
    "num_inputs = len(x_train)\n",
    "order = np.arange(num_inputs)\n",
    "np.random.shuffle(order)"
   ]
  },
  {
   "cell_type": "code",
   "execution_count": 30,
   "metadata": {
    "scrolled": true
   },
   "outputs": [
    {
     "name": "stdout",
     "output_type": "stream",
     "text": [
      "epoch 000 cost: train 1.214 / test 1.211\n",
      " confusion matrix:\n",
      " [[5569    4]\n",
      " [4963    2]]\n",
      "Accuracy  0.529\n",
      "epoch 010 cost: train 3.489 / test 3.705\n",
      " confusion matrix:\n",
      " [[5447  126]\n",
      " [4307  658]]\n",
      "Accuracy  0.579\n",
      "epoch 020 cost: train 0.786 / test 1.309\n",
      " confusion matrix:\n",
      " [[2289 3284]\n",
      " [ 240 4725]]\n",
      "Accuracy  0.666\n",
      "epoch 030 cost: train 0.382 / test 0.956\n",
      " confusion matrix:\n",
      " [[3123 2450]\n",
      " [ 311 4654]]\n",
      "Accuracy  0.738\n",
      "epoch 040 cost: train 0.307 / test 0.911\n",
      " confusion matrix:\n",
      " [[3469 2104]\n",
      " [ 343 4622]]\n",
      "Accuracy  0.768\n",
      "epoch 050 cost: train 0.279 / test 0.934\n",
      " confusion matrix:\n",
      " [[3651 1922]\n",
      " [ 375 4590]]\n",
      "Accuracy  0.782\n",
      "epoch 060 cost: train 0.198 / test 0.875\n",
      " confusion matrix:\n",
      " [[3860 1713]\n",
      " [ 386 4579]]\n",
      "Accuracy  0.801\n",
      "Interrupted\n",
      "\n",
      "time: 417.36 s\n"
     ]
    }
   ],
   "source": [
    "# 训练模型，并打印评估结果\n",
    "try:\n",
    "    for i in range(epochs):\n",
    "        if i % print_cost_every == 0:\n",
    "            cost_train =sess.run(cost, feed_dict=feed_train)\n",
    "            cost_test = sess.run(cost, feed_dict=feed_test)\n",
    "            costs_train.append(cost_train)\n",
    "            costs_test.append(cost_test)\n",
    "            print('epoch {:03d} cost: train {:.3f} / test {:.3f}'.format(\n",
    "                i, cost_train, cost_test))\n",
    "            evaluate_model(sess, x_test, y_test)\n",
    "            \n",
    "        for j in range(0, num_inputs, batch_size):\n",
    "            batch_index = order[j: j + batch_size]\n",
    "            batch_inputs = x_train[batch_index]\n",
    "            batch_labels = y_train[batch_index]\n",
    "            batch_feed = {x_: batch_inputs, y_: batch_labels}\n",
    "            sess.run(train_step, feed_dict=batch_feed)\n",
    "except KeyboardInterrupt:\n",
    "    print('Interrupted')\n",
    "finally:\n",
    "    end_time = time.time()\n",
    "    print('\\ntime: {:.2f} s'.format(end_time - start_time))"
   ]
  },
  {
   "cell_type": "code",
   "execution_count": 31,
   "metadata": {},
   "outputs": [
    {
     "data": {
      "image/png": "[encoded data removed]",
      "text/plain": [
       "<matplotlib.figure.Figure at 0x1216aee80>"
      ]
     },
     "metadata": {},
     "output_type": "display_data"
    }
   ],
   "source": [
    "plt.plot(costs_train, label='train cost')\n",
    "plt.plot(costs_test, label='test cost')\n",
    "plt.legend();"
   ]
  }
 ],
 "metadata": {
  "kernelspec": {
   "display_name": "Python 3",
   "language": "python",
   "name": "python3"
  },
  "language_info": {
   "codemirror_mode": {
    "name": "ipython",
    "version": 3
   },
   "file_extension": ".py",
   "mimetype": "text/x-python",
   "name": "python",
   "nbconvert_exporter": "python",
   "pygments_lexer": "ipython3",
   "version": "3.6.3"
  },
  "toc": {
   "nav_menu": {},
   "number_sections": true,
   "sideBar": true,
   "skip_h1_title": false,
   "toc_cell": false,
   "toc_position": {},
   "toc_section_display": "block",
   "toc_window_display": false
  }
 },
 "nbformat": 4,
 "nbformat_minor": 2
}
