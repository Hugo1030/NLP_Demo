{
 "cells": [
  {
   "cell_type": "markdown",
   "metadata": {},
   "source": [
    "## 使用 RNN 构建语言模型"
   ]
  },
  {
   "cell_type": "code",
   "execution_count": 2,
   "metadata": {
    "scrolled": true
   },
   "outputs": [
    {
     "name": "stdout",
     "output_type": "stream",
     "text": [
      "Hugo 2017-12-14 \n",
      "\n",
      "CPython 3.6.2\n",
      "IPython 6.1.0\n",
      "\n",
      "tensorflow 1.3.0\n",
      "numpy 1.13.3\n",
      "matplotlib 2.1.0\n",
      "\n",
      "compiler   : GCC 4.2.1 (Apple Inc. build 5666) (dot 3)\n",
      "system     : Darwin\n",
      "release    : 17.2.0\n",
      "machine    : x86_64\n",
      "processor  : i386\n",
      "CPU cores  : 4\n",
      "interpreter: 64bit\n"
     ]
    }
   ],
   "source": [
    "# 运行环境\n",
    "%load_ext watermark\n",
    "%watermark -a 'Hugo' -v -m -d -p tensorflow,numpy,matplotlib"
   ]
  },
  {
   "cell_type": "code",
   "execution_count": 3,
   "metadata": {
    "collapsed": true
   },
   "outputs": [],
   "source": [
    "import tensorflow as tf\n",
    "import numpy as np\n",
    "import matplotlib.pyplot as plt\n",
    "from collections import Counter\n",
    "import time\n",
    "import jieba\n",
    "from zhon.hanzi import punctuation\n",
    "\n",
    "%matplotlib inline"
   ]
  },
  {
   "cell_type": "markdown",
   "metadata": {},
   "source": [
    "## 语料预处理"
   ]
  },
  {
   "cell_type": "code",
   "execution_count": 4,
   "metadata": {
    "collapsed": true
   },
   "outputs": [],
   "source": [
    "# 读取字数\n",
    "read_size = 120000\n",
    "\n",
    "# 读取文件\n",
    "with open('../code/xiaobo.txt') as f:\n",
    "    corpus = f.read(read_size)"
   ]
  },
  {
   "cell_type": "code",
   "execution_count": 5,
   "metadata": {
    "collapsed": true
   },
   "outputs": [],
   "source": [
    "END_PUNC = '。？！'  # 作为句子结束的符号\n",
    "IGNORE = '\\n “”\" …《》〈〉()* \\u3000 :（）'  # 忽略不计的符号"
   ]
  },
  {
   "cell_type": "code",
   "execution_count": 6,
   "metadata": {
    "scrolled": false
   },
   "outputs": [
    {
     "name": "stderr",
     "output_type": "stream",
     "text": [
      "Building prefix dict from the default dictionary ...\n",
      "Loading model from cache /var/folders/g5/df85rhb10jb9qpw1wdlh0t_m0000gn/T/jieba.cache\n",
      "Loading model cost 1.014 seconds.\n",
      "Prefix dict has been built succesfully.\n"
     ]
    }
   ],
   "source": [
    "# 切分句子\n",
    "sentences = []\n",
    "sentence = []\n",
    "for word in jieba.cut(corpus):\n",
    "    if word not in IGNORE:\n",
    "        sentence.append(word)\n",
    "    if word in END_PUNC:\n",
    "        sentences.append(sentence)\n",
    "        sentence = []"
   ]
  },
  {
   "cell_type": "code",
   "execution_count": 7,
   "metadata": {
    "collapsed": true
   },
   "outputs": [],
   "source": [
    "# 句首加 token\n",
    "sentences = [['<s>'] + sen for sen in sentences]"
   ]
  },
  {
   "cell_type": "code",
   "execution_count": 8,
   "metadata": {
    "collapsed": true
   },
   "outputs": [],
   "source": [
    "# 得到最长句子长度\n",
    "all_length = [len(line) for line in sentences]\n",
    "max_length = max(all_length)"
   ]
  },
  {
   "cell_type": "code",
   "execution_count": 9,
   "metadata": {
    "scrolled": false
   },
   "outputs": [
    {
     "data": {
      "image/png": "[encoded data removed]",
      "text/plain": [
       "<matplotlib.figure.Figure at 0x11a6c88d0>"
      ]
     },
     "metadata": {},
     "output_type": "display_data"
    }
   ],
   "source": [
    "# 显示句子长度\n",
    "plt.hist(all_length)\n",
    "plt.show()"
   ]
  },
  {
   "cell_type": "code",
   "execution_count": 10,
   "metadata": {
    "collapsed": true
   },
   "outputs": [],
   "source": [
    "# 根据上图，令 max_length 等于 51\n",
    "max_length = 51"
   ]
  },
  {
   "cell_type": "code",
   "execution_count": 11,
   "metadata": {},
   "outputs": [
    {
     "data": {
      "text/plain": [
       "(5443, 51)"
      ]
     },
     "execution_count": 11,
     "metadata": {},
     "output_type": "execute_result"
    }
   ],
   "source": [
    "len(sentences), max_length"
   ]
  },
  {
   "cell_type": "code",
   "execution_count": 12,
   "metadata": {
    "collapsed": true
   },
   "outputs": [],
   "source": [
    "# 句子末尾加 Pad\n",
    "all_sentences = []\n",
    "for sen in sentences:\n",
    "    if len(sen) < max_length:\n",
    "        sen = sen + ['<Pad>'] * (max_length - len(sen))\n",
    "        all_sentences.append(sen)"
   ]
  },
  {
   "cell_type": "code",
   "execution_count": 13,
   "metadata": {
    "collapsed": true
   },
   "outputs": [],
   "source": [
    "# 统计词频\n",
    "all_words = []\n",
    "for words in all_sentences:\n",
    "    for word in words:\n",
    "        all_words.append(word)\n",
    "    word_cnt = Counter(all_words)"
   ]
  },
  {
   "cell_type": "code",
   "execution_count": 14,
   "metadata": {
    "collapsed": true
   },
   "outputs": [],
   "source": [
    "# 建立词表，去掉词频小于 5 的词\n",
    "vocab = ['UNK']\n",
    "for i in word_cnt.most_common():\n",
    "    if i[1] > 5:\n",
    "        vocab.append(i[0])\n",
    "    else:\n",
    "        break\n",
    "vocab_size = len(vocab)"
   ]
  },
  {
   "cell_type": "code",
   "execution_count": 15,
   "metadata": {},
   "outputs": [
    {
     "data": {
      "text/plain": [
       "1424"
      ]
     },
     "execution_count": 15,
     "metadata": {},
     "output_type": "execute_result"
    }
   ],
   "source": [
    "vocab_size"
   ]
  },
  {
   "cell_type": "code",
   "execution_count": 16,
   "metadata": {
    "collapsed": true
   },
   "outputs": [],
   "source": [
    "# 由词映射到序号的字典，可以用分词来查询，得到一个数字\n",
    "idx_dict = dict(zip(vocab, range(vocab_size)))"
   ]
  },
  {
   "cell_type": "code",
   "execution_count": 17,
   "metadata": {
    "collapsed": true
   },
   "outputs": [],
   "source": [
    "# 将词列表转化成序号列表\n",
    "indexs = []\n",
    "for contents in all_sentences:\n",
    "    index_content = []\n",
    "    for word in contents:\n",
    "        idx = idx_dict[word] if (word in vocab) else 0\n",
    "        index_content.append(idx)\n",
    "    indexs.append(index_content)"
   ]
  },
  {
   "cell_type": "code",
   "execution_count": 18,
   "metadata": {
    "collapsed": true
   },
   "outputs": [],
   "source": [
    "# 得到全部句子向量\n",
    "sentences_vector = np.array(indexs)"
   ]
  },
  {
   "cell_type": "code",
   "execution_count": 18,
   "metadata": {
    "collapsed": true
   },
   "outputs": [],
   "source": [
    "# 获得训练数据\n",
    "inputs_train = sentences_vector[:, :-1]\n",
    "labels_train = sentences_vector[:, 1:]"
   ]
  },
  {
   "cell_type": "code",
   "execution_count": 19,
   "metadata": {},
   "outputs": [
    {
     "data": {
      "text/plain": [
       "((5421, 50), (5421, 50))"
      ]
     },
     "execution_count": 19,
     "metadata": {},
     "output_type": "execute_result"
    }
   ],
   "source": [
    "inputs_train.shape, labels_train.shape"
   ]
  },
  {
   "cell_type": "markdown",
   "metadata": {},
   "source": [
    "## 构建 RNN 语言模型"
   ]
  },
  {
   "cell_type": "code",
   "execution_count": 20,
   "metadata": {
    "collapsed": true
   },
   "outputs": [],
   "source": [
    "# 重置 Graph\n",
    "tf.reset_default_graph()"
   ]
  },
  {
   "cell_type": "code",
   "execution_count": 21,
   "metadata": {
    "collapsed": true
   },
   "outputs": [],
   "source": [
    "# 定义 LSTM Cell ,units = 128\n",
    "cell = tf.contrib.rnn.GRUCell(128)\n",
    "word_embedding_dim = 128\n",
    "\n",
    "# 定义 word_embedding\n",
    "word_embedding = tf.Variable(tf.random_uniform([vocab_size, word_embedding_dim]))\n",
    "\n",
    "# 定义 placeholder ，为了便于训练，更是为了生成句子，这里不固定维度\n",
    "inputs = tf.placeholder(tf.int32, shape=[None, None], name='inputs')\n",
    "labels = tf.placeholder(tf.int32, shape=[None, None], name='labels')\n",
    "# 将 labels 打平\n",
    "labels_flat = tf.reshape(labels, (-1,))"
   ]
  },
  {
   "cell_type": "code",
   "execution_count": 22,
   "metadata": {
    "collapsed": true
   },
   "outputs": [],
   "source": [
    "# look_up 得到词向量，格式是 look_up(w, input) ,格式需要是 int32，int64\n",
    "input_embeds = tf.nn.embedding_lookup(word_embedding, inputs)"
   ]
  },
  {
   "cell_type": "code",
   "execution_count": 24,
   "metadata": {},
   "outputs": [
    {
     "data": {
      "text/plain": [
       "<tf.Tensor 'embedding_lookup:0' shape=(?, ?, 128) dtype=float32>"
      ]
     },
     "execution_count": 24,
     "metadata": {},
     "output_type": "execute_result"
    }
   ],
   "source": [
    "input_embeds"
   ]
  },
  {
   "cell_type": "code",
   "execution_count": 23,
   "metadata": {
    "collapsed": true
   },
   "outputs": [],
   "source": [
    "# 各句子中非零 id 的个数即为 sequence_length\n",
    "sequence_length = tf.reduce_sum(tf.sign(inputs), axis=1) \n",
    "max_sequence_length = tf.reduce_max(sequence_length)"
   ]
  },
  {
   "cell_type": "code",
   "execution_count": 25,
   "metadata": {
    "collapsed": true
   },
   "outputs": [],
   "source": [
    "?tf.sign"
   ]
  },
  {
   "cell_type": "code",
   "execution_count": 69,
   "metadata": {
    "collapsed": true
   },
   "outputs": [],
   "source": [
    "# 执行 RNN 单元\n",
    "output, states = tf.nn.dynamic_rnn(cell, input_embeds, dtype=tf.float32,\n",
    "                                   sequence_length=sequence_length)"
   ]
  },
  {
   "cell_type": "code",
   "execution_count": 70,
   "metadata": {
    "collapsed": true
   },
   "outputs": [],
   "source": [
    "# 将 output 打平，shape = (None, 128)\n",
    "output_flat = tf.reshape(output, (-1, 128))"
   ]
  },
  {
   "cell_type": "code",
   "execution_count": 71,
   "metadata": {
    "collapsed": true
   },
   "outputs": [],
   "source": [
    "# 定义 softmax 的 w,b\n",
    "softmax_w = tf.Variable(tf.random_uniform([128, vocab_size]))\n",
    "softmax_b = tf.Variable(tf.random_uniform([vocab_size]))\n",
    "\n",
    "logits_flat = tf.matmul(output_flat, softmax_w) + softmax_b\n",
    "probs_flat = tf.nn.softmax(logits_flat)\n",
    "probs = tf.reshape(probs_flat, (-1, max_sequence_length, vocab_size))\n",
    "\n",
    "# 定义损失函数\n",
    "loss = tf.reduce_mean(\n",
    "    tf.nn.sparse_softmax_cross_entropy_with_logits(\n",
    "        logits=logits_flat, labels=labels_flat))"
   ]
  },
  {
   "cell_type": "code",
   "execution_count": 72,
   "metadata": {
    "collapsed": true
   },
   "outputs": [],
   "source": [
    "# 用 mask 修正损失函数\n",
    "mask = tf.cast(tf.sign(labels_flat), tf.float32)\n",
    "cost = tf.reduce_sum(loss * mask)"
   ]
  },
  {
   "cell_type": "code",
   "execution_count": 73,
   "metadata": {
    "collapsed": true
   },
   "outputs": [],
   "source": [
    "# 定义优化器\n",
    "train_step = tf.train.AdamOptimizer(0.001).minimize(cost)"
   ]
  },
  {
   "cell_type": "code",
   "execution_count": 74,
   "metadata": {
    "collapsed": true
   },
   "outputs": [],
   "source": [
    "# 模型参数设定\n",
    "# Mini-batch Gradient Descent 设定 batch_size\n",
    "batch_size = 20\n",
    "feed_dict = {inputs: inputs_train, labels: labels_train}\n",
    "max_steps = 100000"
   ]
  },
  {
   "cell_type": "code",
   "execution_count": null,
   "metadata": {
    "scrolled": false
   },
   "outputs": [
    {
     "name": "stdout",
     "output_type": "stream",
     "text": [
      "epoch: 0\tcost: 567937.062\n",
      "epoch: 5\tcost: 469240.750\n",
      "epoch: 10\tcost: 452218.781\n",
      "epoch: 15\tcost: 446771.812\n",
      "epoch: 20\tcost: 437869.781\n",
      "epoch: 25\tcost: 435226.812\n",
      "epoch: 30\tcost: 427207.031\n",
      "epoch: 35\tcost: 428829.781\n",
      "epoch: 40\tcost: 418070.219\n",
      "epoch: 45\tcost: 414185.250\n",
      "epoch: 50\tcost: 407793.344\n",
      "epoch: 55\tcost: 405629.219\n",
      "epoch: 60\tcost: 400814.469\n",
      "epoch: 65\tcost: 401785.125\n",
      "epoch: 70\tcost: 396662.250\n",
      "epoch: 75\tcost: 392647.688\n",
      "epoch: 80\tcost: 389484.719\n",
      "epoch: 85\tcost: 385797.625\n",
      "epoch: 90\tcost: 382129.812\n",
      "epoch: 95\tcost: 377255.312\n",
      "epoch: 100\tcost: 375794.094\n",
      "epoch: 105\tcost: 373606.031\n",
      "epoch: 110\tcost: 373148.562\n",
      "epoch: 115\tcost: 367241.812\n",
      "epoch: 120\tcost: 363602.469\n",
      "epoch: 125\tcost: 361138.938\n",
      "epoch: 130\tcost: 356262.438\n",
      "epoch: 135\tcost: 361451.156\n",
      "epoch: 140\tcost: 358238.906\n",
      "epoch: 145\tcost: 351579.250\n",
      "epoch: 150\tcost: 349623.000\n",
      "epoch: 155\tcost: 346070.844\n",
      "epoch: 160\tcost: 344256.000\n",
      "epoch: 165\tcost: 340253.250\n",
      "epoch: 170\tcost: 340378.719\n",
      "epoch: 175\tcost: 334514.500\n",
      "epoch: 180\tcost: 331859.188\n",
      "epoch: 185\tcost: 329693.531\n",
      "epoch: 190\tcost: 328731.500\n",
      "epoch: 195\tcost: 324734.438\n",
      "epoch: 200\tcost: 319026.188\n",
      "epoch: 205\tcost: 316825.500\n",
      "epoch: 210\tcost: 313527.219\n",
      "epoch: 215\tcost: 313310.875\n",
      "epoch: 220\tcost: 309182.062\n",
      "epoch: 225\tcost: 308168.500\n",
      "epoch: 230\tcost: 310010.719\n",
      "epoch: 235\tcost: 304052.125\n",
      "epoch: 240\tcost: 307494.562\n",
      "epoch: 245\tcost: 299274.719\n",
      "epoch: 250\tcost: 297658.719\n",
      "epoch: 255\tcost: 293539.156\n",
      "epoch: 260\tcost: 291523.250\n",
      "epoch: 265\tcost: 291192.188\n",
      "epoch: 270\tcost: 288649.906\n",
      "epoch: 275\tcost: 285467.375\n",
      "epoch: 280\tcost: 286297.875\n",
      "epoch: 285\tcost: 283971.875\n",
      "epoch: 290\tcost: 280404.812\n",
      "epoch: 295\tcost: 275691.812\n",
      "epoch: 300\tcost: 274950.750\n",
      "epoch: 305\tcost: 274131.562\n",
      "epoch: 310\tcost: 271960.688\n",
      "epoch: 315\tcost: 268946.594\n",
      "epoch: 320\tcost: 270185.375\n",
      "epoch: 325\tcost: 265738.219\n",
      "epoch: 330\tcost: 266438.562\n",
      "epoch: 335\tcost: 263493.125\n",
      "epoch: 340\tcost: 262131.125\n",
      "epoch: 345\tcost: 258987.312\n",
      "epoch: 350\tcost: 259630.688\n",
      "epoch: 355\tcost: 254654.188\n",
      "epoch: 360\tcost: 255421.562\n",
      "epoch: 365\tcost: 252978.828\n",
      "epoch: 370\tcost: 252727.672\n",
      "epoch: 375\tcost: 249476.938\n",
      "epoch: 380\tcost: 250413.109\n",
      "epoch: 385\tcost: 247412.281\n",
      "epoch: 390\tcost: 246092.719\n",
      "epoch: 395\tcost: 243665.562\n",
      "epoch: 400\tcost: 242162.375\n",
      "epoch: 405\tcost: 244466.156\n",
      "epoch: 410\tcost: 243155.328\n",
      "epoch: 415\tcost: 244653.328\n",
      "epoch: 420\tcost: 241093.484\n",
      "epoch: 425\tcost: 240341.281\n",
      "epoch: 430\tcost: 237710.984\n",
      "epoch: 435\tcost: 236386.500\n",
      "epoch: 440\tcost: 235652.016\n",
      "epoch: 445\tcost: 234439.359\n",
      "epoch: 450\tcost: 233942.531\n",
      "epoch: 455\tcost: 233133.656\n",
      "epoch: 460\tcost: 230895.031\n",
      "epoch: 465\tcost: 229878.094\n",
      "epoch: 470\tcost: 227930.109\n",
      "epoch: 475\tcost: 228681.875\n",
      "epoch: 480\tcost: 229181.938\n",
      "epoch: 485\tcost: 225106.812\n",
      "epoch: 490\tcost: 225868.281\n",
      "epoch: 495\tcost: 225367.234\n",
      "epoch: 500\tcost: 223423.562\n",
      "epoch: 505\tcost: 221308.406\n",
      "epoch: 510\tcost: 221041.375\n",
      "epoch: 515\tcost: 220920.281\n",
      "epoch: 520\tcost: 221379.344\n",
      "epoch: 525\tcost: 221634.031\n",
      "epoch: 530\tcost: 217593.922\n",
      "epoch: 535\tcost: 218169.812\n",
      "epoch: 540\tcost: 217609.234\n",
      "epoch: 545\tcost: 212855.047\n",
      "epoch: 550\tcost: 213848.047\n",
      "epoch: 555\tcost: 212674.016\n",
      "epoch: 560\tcost: 211290.141\n",
      "epoch: 565\tcost: 212616.094\n",
      "epoch: 570\tcost: 211536.094\n",
      "epoch: 575\tcost: 209157.453\n",
      "epoch: 580\tcost: 210114.969\n",
      "epoch: 585\tcost: 210155.156\n",
      "epoch: 590\tcost: 208325.203\n",
      "epoch: 595\tcost: 208327.703\n",
      "epoch: 600\tcost: 205834.859\n",
      "epoch: 605\tcost: 204836.656\n",
      "epoch: 610\tcost: 205589.109\n",
      "epoch: 615\tcost: 205087.141\n",
      "epoch: 620\tcost: 208919.297\n",
      "epoch: 625\tcost: 205164.281\n",
      "epoch: 630\tcost: 201062.328\n",
      "epoch: 635\tcost: 202329.000\n",
      "epoch: 640\tcost: 200499.031\n",
      "epoch: 645\tcost: 198331.312\n",
      "epoch: 650\tcost: 201581.484\n",
      "epoch: 655\tcost: 200063.406\n",
      "epoch: 660\tcost: 199332.984\n",
      "epoch: 665\tcost: 197998.938\n",
      "epoch: 670\tcost: 194133.875\n",
      "epoch: 675\tcost: 196640.844\n",
      "epoch: 680\tcost: 195055.016\n",
      "epoch: 685\tcost: 193319.984\n",
      "epoch: 690\tcost: 194820.297\n",
      "epoch: 695\tcost: 193052.281\n",
      "epoch: 700\tcost: 191129.906\n",
      "epoch: 705\tcost: 194487.609\n",
      "epoch: 710\tcost: 192822.078\n",
      "epoch: 715\tcost: 190734.078\n",
      "epoch: 720\tcost: 191081.312\n",
      "epoch: 725\tcost: 190883.328\n",
      "epoch: 730\tcost: 192317.344\n",
      "epoch: 735\tcost: 188995.703\n",
      "epoch: 740\tcost: 189730.750\n",
      "epoch: 745\tcost: 189144.500\n",
      "epoch: 750\tcost: 190064.797\n",
      "epoch: 755\tcost: 186235.734\n",
      "epoch: 760\tcost: 185301.188\n",
      "epoch: 765\tcost: 186395.344\n",
      "epoch: 770\tcost: 184482.219\n",
      "epoch: 775\tcost: 188043.516\n",
      "epoch: 780\tcost: 183070.094\n",
      "epoch: 785\tcost: 184053.719\n",
      "epoch: 790\tcost: 185139.406\n",
      "epoch: 795\tcost: 183323.625\n",
      "epoch: 800\tcost: 182279.281\n",
      "epoch: 805\tcost: 181805.484\n",
      "epoch: 810\tcost: 181543.891\n",
      "epoch: 815\tcost: 180133.766\n",
      "epoch: 820\tcost: 180366.719\n",
      "epoch: 825\tcost: 180458.266\n",
      "epoch: 830\tcost: 179291.203\n",
      "epoch: 835\tcost: 177612.531\n",
      "epoch: 840\tcost: 177542.969\n",
      "epoch: 845\tcost: 176966.984\n",
      "epoch: 850\tcost: 177705.250\n",
      "epoch: 855\tcost: 175110.469\n",
      "epoch: 860\tcost: 174194.734\n",
      "epoch: 865\tcost: 173128.812\n",
      "epoch: 870\tcost: 173054.344\n",
      "epoch: 875\tcost: 176046.156\n",
      "epoch: 880\tcost: 178294.453\n",
      "epoch: 885\tcost: 178630.938\n",
      "epoch: 890\tcost: 174765.188\n",
      "epoch: 895\tcost: 174031.250\n",
      "epoch: 900\tcost: 175808.859\n",
      "epoch: 905\tcost: 172963.062\n",
      "epoch: 910\tcost: 172712.562\n",
      "epoch: 915\tcost: 172963.078\n",
      "epoch: 920\tcost: 174807.031\n",
      "epoch: 925\tcost: 172039.469\n",
      "epoch: 930\tcost: 172458.406\n",
      "epoch: 935\tcost: 173781.141\n",
      "epoch: 940\tcost: 171300.516\n",
      "epoch: 945\tcost: 171373.719\n",
      "epoch: 950\tcost: 171531.750\n",
      "epoch: 955\tcost: 169529.969\n",
      "epoch: 960\tcost: 169603.438\n",
      "epoch: 965\tcost: 169701.781\n",
      "epoch: 970\tcost: 167276.344\n",
      "epoch: 975\tcost: 170709.516\n",
      "epoch: 980\tcost: 167935.531\n",
      "epoch: 985\tcost: 166798.172\n",
      "epoch: 990\tcost: 165866.578\n",
      "epoch: 995\tcost: 165754.891\n",
      "epoch: 1000\tcost: 165622.047\n",
      "epoch: 1005\tcost: 165929.906\n",
      "epoch: 1010\tcost: 166368.219\n",
      "epoch: 1015\tcost: 163750.984\n",
      "epoch: 1020\tcost: 164752.734\n",
      "epoch: 1025\tcost: 166023.562\n",
      "epoch: 1030\tcost: 164746.906\n",
      "epoch: 1035\tcost: 165852.594\n",
      "epoch: 1040\tcost: 163274.344\n",
      "epoch: 1045\tcost: 164795.234\n",
      "epoch: 1050\tcost: 161670.484\n",
      "epoch: 1055\tcost: 161272.312\n",
      "epoch: 1060\tcost: 162266.391\n",
      "epoch: 1065\tcost: 161242.156\n",
      "epoch: 1070\tcost: 160019.156\n",
      "epoch: 1075\tcost: 160610.953\n",
      "epoch: 1080\tcost: 159930.641\n",
      "epoch: 1085\tcost: 164171.016\n",
      "epoch: 1090\tcost: 162769.688\n",
      "epoch: 1095\tcost: 160245.141\n",
      "epoch: 1100\tcost: 161516.766\n",
      "epoch: 1105\tcost: 159768.438\n",
      "epoch: 1110\tcost: 159994.641\n",
      "epoch: 1115\tcost: 159680.422\n",
      "epoch: 1120\tcost: 158241.594\n",
      "epoch: 1125\tcost: 157932.625\n",
      "epoch: 1130\tcost: 157488.656\n",
      "epoch: 1135\tcost: 158684.250\n",
      "epoch: 1140\tcost: 158036.547\n",
      "epoch: 1145\tcost: 155480.531\n",
      "epoch: 1150\tcost: 158009.328\n",
      "epoch: 1155\tcost: 156342.734\n",
      "epoch: 1160\tcost: 157107.312\n",
      "epoch: 1165\tcost: 157613.922\n",
      "epoch: 1170\tcost: 153858.625\n",
      "epoch: 1175\tcost: 154609.688\n",
      "epoch: 1180\tcost: 155860.906\n",
      "epoch: 1185\tcost: 155507.781\n",
      "epoch: 1190\tcost: 154756.531\n",
      "epoch: 1195\tcost: 156107.156\n",
      "epoch: 1200\tcost: 152730.547\n",
      "epoch: 1205\tcost: 153997.453\n",
      "epoch: 1210\tcost: 153775.281\n",
      "epoch: 1215\tcost: 154655.766\n",
      "epoch: 1220\tcost: 151728.453\n",
      "epoch: 1225\tcost: 149659.234\n",
      "epoch: 1230\tcost: 149971.438\n",
      "epoch: 1235\tcost: 151999.438\n",
      "epoch: 1240\tcost: 150105.141\n",
      "epoch: 1245\tcost: 149745.297\n",
      "epoch: 1250\tcost: 148641.516\n",
      "epoch: 1255\tcost: 151275.250\n",
      "epoch: 1260\tcost: 150742.188\n",
      "epoch: 1265\tcost: 150165.766\n",
      "epoch: 1270\tcost: 150105.062\n",
      "epoch: 1275\tcost: 150775.469\n",
      "epoch: 1280\tcost: 150775.469\n",
      "epoch: 1285\tcost: 150002.672\n",
      "epoch: 1290\tcost: 148912.984\n",
      "epoch: 1295\tcost: 147514.500\n",
      "epoch: 1300\tcost: 150247.438\n",
      "epoch: 1305\tcost: 149386.812\n",
      "epoch: 1310\tcost: 147853.062\n",
      "epoch: 1315\tcost: 147236.344\n",
      "epoch: 1320\tcost: 148266.703\n",
      "epoch: 1325\tcost: 147248.203\n",
      "epoch: 1330\tcost: 145633.422\n",
      "epoch: 1335\tcost: 147248.469\n",
      "epoch: 1340\tcost: 146831.547\n",
      "epoch: 1345\tcost: 146235.891\n",
      "epoch: 1350\tcost: 146657.703\n",
      "epoch: 1355\tcost: 147521.016\n",
      "epoch: 1360\tcost: 146213.188\n",
      "epoch: 1365\tcost: 145075.344\n",
      "epoch: 1370\tcost: 146492.094\n",
      "epoch: 1375\tcost: 147082.812\n",
      "epoch: 1380\tcost: 147660.266\n",
      "epoch: 1385\tcost: 145738.750\n",
      "epoch: 1390\tcost: 146720.750\n",
      "epoch: 1395\tcost: 146385.188\n",
      "epoch: 1400\tcost: 145154.688\n",
      "epoch: 1405\tcost: 143644.375\n",
      "epoch: 1410\tcost: 145830.172\n",
      "epoch: 1415\tcost: 146852.062\n",
      "epoch: 1420\tcost: 144344.609\n",
      "epoch: 1425\tcost: 145901.172\n",
      "epoch: 1430\tcost: 144653.219\n",
      "epoch: 1435\tcost: 144130.828\n",
      "epoch: 1440\tcost: 143479.562\n",
      "epoch: 1445\tcost: 141389.062\n",
      "epoch: 1450\tcost: 139870.812\n"
     ]
    },
    {
     "name": "stdout",
     "output_type": "stream",
     "text": [
      "epoch: 1455\tcost: 142736.828\n",
      "epoch: 1460\tcost: 143479.641\n",
      "epoch: 1465\tcost: 141320.500\n",
      "epoch: 1470\tcost: 138973.672\n",
      "epoch: 1475\tcost: 139369.672\n",
      "epoch: 1480\tcost: 138722.859\n",
      "epoch: 1485\tcost: 138955.625\n",
      "epoch: 1490\tcost: 138955.266\n",
      "epoch: 1495\tcost: 139481.594\n",
      "epoch: 1500\tcost: 140616.812\n",
      "epoch: 1505\tcost: 137971.641\n",
      "epoch: 1510\tcost: 137345.375\n",
      "epoch: 1515\tcost: 137882.641\n",
      "epoch: 1520\tcost: 139074.688\n",
      "epoch: 1525\tcost: 140454.250\n",
      "epoch: 1530\tcost: 139752.625\n",
      "epoch: 1535\tcost: 141506.859\n",
      "epoch: 1540\tcost: 139368.281\n",
      "epoch: 1545\tcost: 139223.781\n",
      "epoch: 1550\tcost: 137726.750\n",
      "epoch: 1555\tcost: 136749.547\n",
      "epoch: 1560\tcost: 135625.594\n",
      "epoch: 1565\tcost: 136093.359\n",
      "epoch: 1570\tcost: 136004.094\n",
      "epoch: 1575\tcost: 135608.562\n",
      "epoch: 1580\tcost: 135588.812\n",
      "epoch: 1585\tcost: 135632.688\n",
      "epoch: 1590\tcost: 135086.938\n",
      "epoch: 1595\tcost: 133843.109\n",
      "epoch: 1600\tcost: 134441.656\n",
      "epoch: 1605\tcost: 134447.125\n",
      "epoch: 1610\tcost: 135844.219\n",
      "epoch: 1615\tcost: 135976.203\n",
      "epoch: 1620\tcost: 133749.469\n",
      "epoch: 1625\tcost: 135194.219\n",
      "epoch: 1630\tcost: 134466.062\n",
      "epoch: 1635\tcost: 132847.281\n",
      "epoch: 1640\tcost: 133836.031\n",
      "epoch: 1645\tcost: 134198.016\n",
      "epoch: 1650\tcost: 134745.188\n",
      "epoch: 1655\tcost: 133877.484\n",
      "epoch: 1660\tcost: 133243.312\n",
      "epoch: 1665\tcost: 132851.703\n",
      "epoch: 1670\tcost: 132118.672\n",
      "epoch: 1675\tcost: 131872.531\n",
      "epoch: 1680\tcost: 132720.422\n",
      "epoch: 1685\tcost: 131991.500\n",
      "epoch: 1690\tcost: 132099.734\n",
      "epoch: 1695\tcost: 132086.031\n",
      "epoch: 1700\tcost: 133695.656\n",
      "epoch: 1705\tcost: 133342.469\n",
      "epoch: 1710\tcost: 133445.281\n",
      "epoch: 1715\tcost: 130739.562\n",
      "epoch: 1720\tcost: 131474.562\n",
      "epoch: 1725\tcost: 132188.547\n",
      "epoch: 1730\tcost: 133749.703\n",
      "epoch: 1735\tcost: 131491.859\n",
      "epoch: 1740\tcost: 130191.031\n",
      "epoch: 1745\tcost: 131091.609\n",
      "epoch: 1750\tcost: 133347.203\n",
      "epoch: 1755\tcost: 130989.945\n",
      "epoch: 1760\tcost: 130866.375\n",
      "epoch: 1765\tcost: 130995.508\n"
     ]
    }
   ],
   "source": [
    "# 创建会话，训练模型\n",
    "sess = tf.Session()\n",
    "sess.run(tf.global_variables_initializer())\n",
    "feed_dict = {inputs: inputs_train, labels: labels_train}\n",
    "arr = np.arange(len(labels_train))\n",
    "costs = []\n",
    "start = time.time()\n",
    "try:\n",
    "    for i in range(max_steps):\n",
    "        np.random.shuffle(arr)\n",
    "        for j in range(batch_size):\n",
    "            batch_index = arr[j: j+batch_size] \n",
    "            batch_inputs = inputs_train[batch_index]\n",
    "            batch_labels = labels_train[batch_index]\n",
    "            batch_feed = {inputs: batch_inputs, labels: batch_labels}\n",
    "            sess.run(train_step, feed_dict=batch_feed)\n",
    "        if i % 5 == 0:\n",
    "            loss = sess.run(cost, feed_dict=feed_dict)\n",
    "            costs.append(loss)\n",
    "            print(\"epoch: {:d}\\tcost: {:.3f}\".format(i, loss))\n",
    "except KeyboardInterrupt:\n",
    "    print('KeyboardInterrupt')\n",
    "finally:\n",
    "    end = time.time()\n",
    "    print('\\ntime: {:.2f} s'.format(end - start))"
   ]
  },
  {
   "cell_type": "code",
   "execution_count": 31,
   "metadata": {},
   "outputs": [
    {
     "data": {
      "text/plain": [
       "<matplotlib.legend.Legend at 0x117d28ef0>"
      ]
     },
     "execution_count": 31,
     "metadata": {},
     "output_type": "execute_result"
    },
    {
     "data": {
      "image/png": "[encoded data removed]",
      "text/plain": [
       "<matplotlib.figure.Figure at 0x11f711f28>"
      ]
     },
     "metadata": {},
     "output_type": "display_data"
    }
   ],
   "source": [
    "plt.plot(costs, label='BGD cost')\n",
    "plt.legend()"
   ]
  },
  {
   "cell_type": "markdown",
   "metadata": {},
   "source": [
    "## 用模型生成句子"
   ]
  },
  {
   "cell_type": "code",
   "execution_count": 32,
   "metadata": {
    "collapsed": true
   },
   "outputs": [],
   "source": [
    "# 特殊字符\n",
    "VOCAB_SPECIAL = ('<s>', '<Pad>', 'UNK')"
   ]
  },
  {
   "cell_type": "code",
   "execution_count": 33,
   "metadata": {
    "collapsed": true,
    "scrolled": true
   },
   "outputs": [],
   "source": [
    "# 从 probs 中提取出下一个词的概率分布\n",
    "probs_next_word = probs[0, -1, :]"
   ]
  },
  {
   "cell_type": "code",
   "execution_count": 34,
   "metadata": {
    "collapsed": true
   },
   "outputs": [],
   "source": [
    "# 词表 key 和 value 反转\n",
    "idx_dict_reserver = dict((v,k) for k,v in idx_dict.items())"
   ]
  },
  {
   "cell_type": "code",
   "execution_count": 35,
   "metadata": {
    "collapsed": true
   },
   "outputs": [],
   "source": [
    "def get_sentence(start_words, top_words, sentence_length):\n",
    "    # 得到句首 token\n",
    "    word_ids = [idx_dict[start_words]]\n",
    "    for i in range(sentence_length): \n",
    "        context = np.asarray(word_ids).reshape(1, -1)\n",
    "        probs_val = sess.run(probs_next_word, feed_dict={inputs: context})\n",
    "\n",
    "        top_words_indices = probs_val.argsort()[-top_words:][::-1]\n",
    "        top_words_probs = [probs_val[i] for i in top_words_indices]\n",
    "\n",
    "        for j in range(100): \n",
    "            # 根据已有词，生成下一个词\n",
    "            # 从 top_words 概率最大的词中选择\n",
    "            # 如果遇到了 <s> <Pad> UNK，就重新生成\n",
    "            new_id = np.random.choice(top_words_indices, p=top_words_probs/sum(top_words_probs))\n",
    "            new_word = idx_dict_reserver[new_id]\n",
    "            if new_word not in VOCAB_SPECIAL:\n",
    "                break\n",
    "        word_ids.append(new_id)\n",
    "        if new_word in END_PUNC:\n",
    "            break\n",
    "    sentence = [idx_dict_reserver[i] for i in word_ids]\n",
    "    return ''.join(sentence[1:])"
   ]
  },
  {
   "cell_type": "code",
   "execution_count": 62,
   "metadata": {
    "scrolled": false
   },
   "outputs": [
    {
     "name": "stdout",
     "output_type": "stream",
     "text": [
      "-----This is a 1 sentence-----\n",
      "当然叫这最后一口气想起儿给爸爸也就叫，这个送都知道穿什么这一步，到我就在你爸爸叫专门好不好也为他们想象不好？\n",
      "\n",
      "\n",
      "-----This is a 2 sentence-----\n",
      "有那明白我放牛走正路回家去从偷还要再问题没有！\n",
      "\n",
      "\n",
      "-----This is a 3 sentence-----\n",
      "那地方有两个家伙，是她想的书告诉主任说不跑到门口怀疑我很大裤子认为陈过来。\n",
      "\n",
      "\n",
      "-----This is a 4 sentence-----\n",
      "陈一下衣服很时说和王二还穿一辈子这样总倒下穿裤子谈话进来吧谈话时回来是路上面请，上面，不是给每每天下让好材料里出来斗争，看就是这样—如此好又往好好病人正看见。\n",
      "\n",
      "\n",
      "-----This is a 5 sentence-----\n",
      "忽然之间小时候来见很多蹲进纸算了也不不错听有你显得太太，别人看病现在跑去大知道是因为什么兴趣任何人。\n",
      "\n",
      "\n"
     ]
    }
   ],
   "source": [
    "strart_words = '<s>' # 句首词\n",
    "top_words=25 # 从概率最近的 top_words 里面取词\n",
    "sentence_length = 100\n",
    "\n",
    "for i in range(5):\n",
    "    print(\"-----This is a %d sentence-----\" %(i+1))\n",
    "    print(get_sentence(strart_words, top_words, sentence_length))\n",
    "    print(\"\\n\") "
   ]
  },
  {
   "cell_type": "code",
   "execution_count": 37,
   "metadata": {},
   "outputs": [
    {
     "data": {
      "text/plain": [
       "'/Users/hugo/Save_models/lstm-model.ckpt-100'"
      ]
     },
     "execution_count": 37,
     "metadata": {},
     "output_type": "execute_result"
    }
   ],
   "source": [
    "# 保存模型\n",
    "saver = tf.train.Saver()\n",
    "saver.save(sess, '/Users/hugo/Save_models/lstm-model.ckpt', global_step=100)"
   ]
  },
  {
   "cell_type": "code",
   "execution_count": null,
   "metadata": {
    "collapsed": true
   },
   "outputs": [],
   "source": []
  }
 ],
 "metadata": {
  "kernelspec": {
   "display_name": "Python 3",
   "language": "python",
   "name": "python3"
  },
  "language_info": {
   "codemirror_mode": {
    "name": "ipython",
    "version": 3
   },
   "file_extension": ".py",
   "mimetype": "text/x-python",
   "name": "python",
   "nbconvert_exporter": "python",
   "pygments_lexer": "ipython3",
   "version": "3.6.3"
  },
  "toc": {
   "nav_menu": {},
   "number_sections": true,
   "sideBar": true,
   "skip_h1_title": false,
   "toc_cell": false,
   "toc_position": {},
   "toc_section_display": "block",
   "toc_window_display": false
  }
 },
 "nbformat": 4,
 "nbformat_minor": 2
}
